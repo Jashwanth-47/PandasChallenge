{
 "cells": [
  {
   "cell_type": "code",
   "execution_count": null,
   "metadata": {},
   "outputs": [],
   "source": [
    "'''Problem 1: Conditional Selection\n",
    "Find all rows where:\n",
    "Marks are greater than 80,\n",
    "City is either \"New York\" or \"Chicago\".\n",
    "Problem 2: Adding New Columns\n",
    "Create a new column called \"Category\" where:\n",
    "Marks > 85 → \"A\"\n",
    "Marks > 70 and ≤ 85 → \"B\"\n",
    "Marks ≤ 70 → \"C\".\n",
    "Problem 3: Working with Indexing\n",
    "Set the \"Name\" column as the index.\n",
    "After performing the operation, reset the index back to default.\n",
    "Problem 4: Aggregation\n",
    "Find the total Marks for each city using groupby.\n",
    "Find the maximum Age for each gender.\n",
    "Bonus Problem: Combining Conditions\n",
    "Find all rows where:\n",
    "Marks are greater than 85,\n",
    "Age is less than 22,\n",
    "And City is not \"New York\". '''\n"
   ]
  },
  {
   "cell_type": "code",
   "execution_count": 1,
   "metadata": {},
   "outputs": [],
   "source": [
    "import pandas as pd"
   ]
  },
  {
   "cell_type": "code",
   "execution_count": 2,
   "metadata": {},
   "outputs": [],
   "source": [
    "d1={\"Name\":[\"John\",\"Alice\",\"Bob\",\"Emma\"],\n",
    "\"Age\":[20,22,12,21],\n",
    "\"Gender\":[\"Male\",\"Female\",\"Male\",\"Female\"],\n",
    "\"Marks\":[88,92,75,89],\n",
    "\"City\":[\"New York\",\"Los Angeles\",\"Chicago\",\"San Fransico\"]}\n",
    "vr=pd.DataFrame(d1)"
   ]
  },
  {
   "cell_type": "code",
   "execution_count": 4,
   "metadata": {},
   "outputs": [
    {
     "data": {
      "text/html": [
       "<div>\n",
       "<style scoped>\n",
       "    .dataframe tbody tr th:only-of-type {\n",
       "        vertical-align: middle;\n",
       "    }\n",
       "\n",
       "    .dataframe tbody tr th {\n",
       "        vertical-align: top;\n",
       "    }\n",
       "\n",
       "    .dataframe thead th {\n",
       "        text-align: right;\n",
       "    }\n",
       "</style>\n",
       "<table border=\"1\" class=\"dataframe\">\n",
       "  <thead>\n",
       "    <tr style=\"text-align: right;\">\n",
       "      <th></th>\n",
       "      <th>Name</th>\n",
       "      <th>Age</th>\n",
       "      <th>Gender</th>\n",
       "      <th>Marks</th>\n",
       "      <th>City</th>\n",
       "    </tr>\n",
       "  </thead>\n",
       "  <tbody>\n",
       "    <tr>\n",
       "      <th>0</th>\n",
       "      <td>John</td>\n",
       "      <td>20</td>\n",
       "      <td>Male</td>\n",
       "      <td>88</td>\n",
       "      <td>New York</td>\n",
       "    </tr>\n",
       "  </tbody>\n",
       "</table>\n",
       "</div>"
      ],
      "text/plain": [
       "   Name  Age Gender  Marks      City\n",
       "0  John   20   Male     88  New York"
      ]
     },
     "execution_count": 4,
     "metadata": {},
     "output_type": "execute_result"
    }
   ],
   "source": [
    "vr.loc[(vr[\"Marks\"]>80)&((vr[\"City\"]==\"New York\")|(vr[\"City\"]==\"Chicago\"))]"
   ]
  },
  {
   "cell_type": "code",
   "execution_count": 6,
   "metadata": {},
   "outputs": [
    {
     "data": {
      "text/html": [
       "<div>\n",
       "<style scoped>\n",
       "    .dataframe tbody tr th:only-of-type {\n",
       "        vertical-align: middle;\n",
       "    }\n",
       "\n",
       "    .dataframe tbody tr th {\n",
       "        vertical-align: top;\n",
       "    }\n",
       "\n",
       "    .dataframe thead th {\n",
       "        text-align: right;\n",
       "    }\n",
       "</style>\n",
       "<table border=\"1\" class=\"dataframe\">\n",
       "  <thead>\n",
       "    <tr style=\"text-align: right;\">\n",
       "      <th></th>\n",
       "      <th>Name</th>\n",
       "      <th>Age</th>\n",
       "      <th>Gender</th>\n",
       "      <th>Marks</th>\n",
       "      <th>City</th>\n",
       "      <th>Category</th>\n",
       "    </tr>\n",
       "  </thead>\n",
       "  <tbody>\n",
       "    <tr>\n",
       "      <th>0</th>\n",
       "      <td>John</td>\n",
       "      <td>20</td>\n",
       "      <td>Male</td>\n",
       "      <td>88</td>\n",
       "      <td>New York</td>\n",
       "      <td>A</td>\n",
       "    </tr>\n",
       "    <tr>\n",
       "      <th>1</th>\n",
       "      <td>Alice</td>\n",
       "      <td>22</td>\n",
       "      <td>Female</td>\n",
       "      <td>92</td>\n",
       "      <td>Los Angeles</td>\n",
       "      <td>A</td>\n",
       "    </tr>\n",
       "    <tr>\n",
       "      <th>2</th>\n",
       "      <td>Bob</td>\n",
       "      <td>12</td>\n",
       "      <td>Male</td>\n",
       "      <td>75</td>\n",
       "      <td>Chicago</td>\n",
       "      <td>B</td>\n",
       "    </tr>\n",
       "    <tr>\n",
       "      <th>3</th>\n",
       "      <td>Emma</td>\n",
       "      <td>21</td>\n",
       "      <td>Female</td>\n",
       "      <td>89</td>\n",
       "      <td>San Fransico</td>\n",
       "      <td>A</td>\n",
       "    </tr>\n",
       "  </tbody>\n",
       "</table>\n",
       "</div>"
      ],
      "text/plain": [
       "    Name  Age  Gender  Marks          City Category\n",
       "0   John   20    Male     88      New York        A\n",
       "1  Alice   22  Female     92   Los Angeles        A\n",
       "2    Bob   12    Male     75       Chicago        B\n",
       "3   Emma   21  Female     89  San Fransico        A"
      ]
     },
     "execution_count": 6,
     "metadata": {},
     "output_type": "execute_result"
    }
   ],
   "source": [
    "def cat(Marks):\n",
    "    if Marks >85:\n",
    "        return \"A\"\n",
    "    elif Marks>70:\n",
    "        return \"B\"\n",
    "    else:\n",
    "        return \"C\"\n",
    "vr[\"Category\"]=vr[\"Marks\"].apply(cat)\n",
    "vr"
   ]
  },
  {
   "cell_type": "code",
   "execution_count": 15,
   "metadata": {},
   "outputs": [
    {
     "data": {
      "text/html": [
       "<div>\n",
       "<style scoped>\n",
       "    .dataframe tbody tr th:only-of-type {\n",
       "        vertical-align: middle;\n",
       "    }\n",
       "\n",
       "    .dataframe tbody tr th {\n",
       "        vertical-align: top;\n",
       "    }\n",
       "\n",
       "    .dataframe thead th {\n",
       "        text-align: right;\n",
       "    }\n",
       "</style>\n",
       "<table border=\"1\" class=\"dataframe\">\n",
       "  <thead>\n",
       "    <tr style=\"text-align: right;\">\n",
       "      <th></th>\n",
       "      <th>index</th>\n",
       "      <th>Name</th>\n",
       "      <th>Age</th>\n",
       "      <th>Gender</th>\n",
       "      <th>Marks</th>\n",
       "      <th>City</th>\n",
       "      <th>Category</th>\n",
       "    </tr>\n",
       "  </thead>\n",
       "  <tbody>\n",
       "    <tr>\n",
       "      <th>0</th>\n",
       "      <td>0</td>\n",
       "      <td>John</td>\n",
       "      <td>20</td>\n",
       "      <td>Male</td>\n",
       "      <td>88</td>\n",
       "      <td>New York</td>\n",
       "      <td>A</td>\n",
       "    </tr>\n",
       "    <tr>\n",
       "      <th>1</th>\n",
       "      <td>1</td>\n",
       "      <td>Alice</td>\n",
       "      <td>22</td>\n",
       "      <td>Female</td>\n",
       "      <td>92</td>\n",
       "      <td>Los Angeles</td>\n",
       "      <td>A</td>\n",
       "    </tr>\n",
       "    <tr>\n",
       "      <th>2</th>\n",
       "      <td>2</td>\n",
       "      <td>Bob</td>\n",
       "      <td>12</td>\n",
       "      <td>Male</td>\n",
       "      <td>75</td>\n",
       "      <td>Chicago</td>\n",
       "      <td>B</td>\n",
       "    </tr>\n",
       "    <tr>\n",
       "      <th>3</th>\n",
       "      <td>3</td>\n",
       "      <td>Emma</td>\n",
       "      <td>21</td>\n",
       "      <td>Female</td>\n",
       "      <td>89</td>\n",
       "      <td>San Fransico</td>\n",
       "      <td>A</td>\n",
       "    </tr>\n",
       "  </tbody>\n",
       "</table>\n",
       "</div>"
      ],
      "text/plain": [
       "   index   Name  Age  Gender  Marks          City Category\n",
       "0      0   John   20    Male     88      New York        A\n",
       "1      1  Alice   22  Female     92   Los Angeles        A\n",
       "2      2    Bob   12    Male     75       Chicago        B\n",
       "3      3   Emma   21  Female     89  San Fransico        A"
      ]
     },
     "execution_count": 15,
     "metadata": {},
     "output_type": "execute_result"
    }
   ],
   "source": [
    "vr.set_index(\"Name\")\n",
    "vr.reset_index()"
   ]
  },
  {
   "cell_type": "code",
   "execution_count": 19,
   "metadata": {},
   "outputs": [
    {
     "data": {
      "text/plain": [
       "City\n",
       "Chicago         75\n",
       "Los Angeles     92\n",
       "New York        88\n",
       "San Fransico    89\n",
       "Name: Marks, dtype: int64"
      ]
     },
     "execution_count": 19,
     "metadata": {},
     "output_type": "execute_result"
    }
   ],
   "source": [
    "a1=vr.groupby('City')[\"Marks\"].sum() # groupby mistake you done\n",
    "a4=vr.groupby('Gender')[\"Age\"].max()\n",
    "a1"
   ]
  },
  {
   "cell_type": "code",
   "execution_count": 20,
   "metadata": {},
   "outputs": [
    {
     "data": {
      "text/html": [
       "<div>\n",
       "<style scoped>\n",
       "    .dataframe tbody tr th:only-of-type {\n",
       "        vertical-align: middle;\n",
       "    }\n",
       "\n",
       "    .dataframe tbody tr th {\n",
       "        vertical-align: top;\n",
       "    }\n",
       "\n",
       "    .dataframe thead th {\n",
       "        text-align: right;\n",
       "    }\n",
       "</style>\n",
       "<table border=\"1\" class=\"dataframe\">\n",
       "  <thead>\n",
       "    <tr style=\"text-align: right;\">\n",
       "      <th></th>\n",
       "      <th>Name</th>\n",
       "      <th>Age</th>\n",
       "      <th>Gender</th>\n",
       "      <th>Marks</th>\n",
       "      <th>City</th>\n",
       "      <th>Category</th>\n",
       "    </tr>\n",
       "  </thead>\n",
       "  <tbody>\n",
       "    <tr>\n",
       "      <th>3</th>\n",
       "      <td>Emma</td>\n",
       "      <td>21</td>\n",
       "      <td>Female</td>\n",
       "      <td>89</td>\n",
       "      <td>San Fransico</td>\n",
       "      <td>A</td>\n",
       "    </tr>\n",
       "  </tbody>\n",
       "</table>\n",
       "</div>"
      ],
      "text/plain": [
       "   Name  Age  Gender  Marks          City Category\n",
       "3  Emma   21  Female     89  San Fransico        A"
      ]
     },
     "execution_count": 20,
     "metadata": {},
     "output_type": "execute_result"
    }
   ],
   "source": [
    "vr.loc[(vr[\"Marks\"]>85)&(vr[\"Age\"]<22)&(vr[\"City\"]!=\"New York\")]"
   ]
  },
  {
   "cell_type": "code",
   "execution_count": null,
   "metadata": {},
   "outputs": [],
   "source": []
  }
 ],
 "metadata": {
  "kernelspec": {
   "display_name": "Python 3",
   "language": "python",
   "name": "python3"
  },
  "language_info": {
   "codemirror_mode": {
    "name": "ipython",
    "version": 3
   },
   "file_extension": ".py",
   "mimetype": "text/x-python",
   "name": "python",
   "nbconvert_exporter": "python",
   "pygments_lexer": "ipython3",
   "version": "3.12.4"
  }
 },
 "nbformat": 4,
 "nbformat_minor": 2
}
