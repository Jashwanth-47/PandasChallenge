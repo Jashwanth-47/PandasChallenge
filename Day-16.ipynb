{
 "cells": [
  {
   "cell_type": "markdown",
   "metadata": {},
   "source": [
    " given the following dataset of customer transactions. Use pandas to answer the questions below:\n",
    " Questions:\n",
    "1.Calculate the total amount spent by each customer.\n",
    "\n",
    "2.Identify the customer who made the highest transaction and their Region.\n",
    "\n",
    "3.Determine the monthly transaction total for the \"East\" region.\n",
    "\n",
    "4.Find the average amount spent in each Region.\n",
    "\n",
    "5.Add a new column TransactionCategory:\n",
    " If the Amount is above 400, classify as \"High\".\n",
    " If the Amount is between 200 and 400 (inclusive), classify as \"Medium\".\n",
    " Otherwise, classify as \"Low\".\n",
    " \n",
    "6.Determine the most recent transaction for each Regio"
   ]
  },
  {
   "cell_type": "code",
   "execution_count": 1,
   "metadata": {},
   "outputs": [],
   "source": [
    "import pandas as pd\n",
    "\n",
    "data = {\n",
    "    \"CustomerID\": [101, 102, 103, 104, 105, 101, 102, 104],\n",
    "    \"TransactionDate\": [\n",
    "        \"2023-01-10\", \"2023-02-15\", \"2023-02-20\", \n",
    "        \"2023-03-10\", \"2023-03-25\", \"2023-04-01\",\n",
    "        \"2023-04-05\", \"2023-04-12\"\n",
    "    ],\n",
    "    \"Amount\": [250, 300, 150, 500, 350, 200, 450, 300],\n",
    "    \"Region\": [\"East\", \"North\", \"South\", \"West\", \"East\", \"East\", \"North\", \"West\"]\n",
    "}\n",
    "\n",
    "df = pd.DataFrame(data)\n",
    "df[\"TransactionDate\"] = pd.to_datetime(df[\"TransactionDate\"])\n"
   ]
  },
  {
   "cell_type": "code",
   "execution_count": 4,
   "metadata": {},
   "outputs": [
    {
     "data": {
      "text/plain": [
       "CustomerID\n",
       "101    450\n",
       "102    750\n",
       "103    150\n",
       "104    800\n",
       "105    350\n",
       "Name: Amount, dtype: int64"
      ]
     },
     "execution_count": 4,
     "metadata": {},
     "output_type": "execute_result"
    }
   ],
   "source": [
    "df.groupby(\"CustomerID\")[\"Amount\"].sum()"
   ]
  },
  {
   "cell_type": "code",
   "execution_count": 9,
   "metadata": {},
   "outputs": [
    {
     "data": {
      "text/plain": [
       "Region\n",
       "East     350\n",
       "North    450\n",
       "South    150\n",
       "West     500\n",
       "Name: Amount, dtype: int64"
      ]
     },
     "execution_count": 9,
     "metadata": {},
     "output_type": "execute_result"
    }
   ],
   "source": [
    "df.groupby(\"Region\")[\"Amount\"].max()"
   ]
  },
  {
   "cell_type": "code",
   "execution_count": 33,
   "metadata": {},
   "outputs": [
    {
     "data": {
      "text/html": [
       "<div>\n",
       "<style scoped>\n",
       "    .dataframe tbody tr th:only-of-type {\n",
       "        vertical-align: middle;\n",
       "    }\n",
       "\n",
       "    .dataframe tbody tr th {\n",
       "        vertical-align: top;\n",
       "    }\n",
       "\n",
       "    .dataframe thead th {\n",
       "        text-align: right;\n",
       "    }\n",
       "</style>\n",
       "<table border=\"1\" class=\"dataframe\">\n",
       "  <thead>\n",
       "    <tr style=\"text-align: right;\">\n",
       "      <th></th>\n",
       "      <th>CustomerID</th>\n",
       "      <th>TransactionDate</th>\n",
       "      <th>Amount</th>\n",
       "      <th>Region</th>\n",
       "      <th>TransactionCategory</th>\n",
       "      <th>Month</th>\n",
       "    </tr>\n",
       "  </thead>\n",
       "  <tbody>\n",
       "    <tr>\n",
       "      <th>0</th>\n",
       "      <td>101</td>\n",
       "      <td>2023-01-10</td>\n",
       "      <td>250</td>\n",
       "      <td>East</td>\n",
       "      <td>Medium</td>\n",
       "      <td>1</td>\n",
       "    </tr>\n",
       "    <tr>\n",
       "      <th>4</th>\n",
       "      <td>105</td>\n",
       "      <td>2023-03-25</td>\n",
       "      <td>350</td>\n",
       "      <td>East</td>\n",
       "      <td>Medium</td>\n",
       "      <td>3</td>\n",
       "    </tr>\n",
       "    <tr>\n",
       "      <th>5</th>\n",
       "      <td>101</td>\n",
       "      <td>2023-04-01</td>\n",
       "      <td>200</td>\n",
       "      <td>East</td>\n",
       "      <td>Low</td>\n",
       "      <td>4</td>\n",
       "    </tr>\n",
       "  </tbody>\n",
       "</table>\n",
       "</div>"
      ],
      "text/plain": [
       "   CustomerID TransactionDate  Amount Region TransactionCategory  Month\n",
       "0         101      2023-01-10     250   East              Medium      1\n",
       "4         105      2023-03-25     350   East              Medium      3\n",
       "5         101      2023-04-01     200   East                 Low      4"
      ]
     },
     "execution_count": 33,
     "metadata": {},
     "output_type": "execute_result"
    }
   ],
   "source": [
    "df[\"Month\"]=df[\"TransactionDate\"].dt.month\n",
    "df.loc[(df[\"Region\"]==\"East\")]"
   ]
  },
  {
   "cell_type": "code",
   "execution_count": 10,
   "metadata": {},
   "outputs": [
    {
     "data": {
      "text/plain": [
       "Region\n",
       "East     266.666667\n",
       "North    375.000000\n",
       "South    150.000000\n",
       "West     400.000000\n",
       "Name: Amount, dtype: float64"
      ]
     },
     "execution_count": 10,
     "metadata": {},
     "output_type": "execute_result"
    }
   ],
   "source": [
    "df.groupby(\"Region\")[\"Amount\"].mean()"
   ]
  },
  {
   "cell_type": "code",
   "execution_count": 11,
   "metadata": {},
   "outputs": [],
   "source": [
    "def s(Amount):\n",
    "    if Amount>400:\n",
    "        return \"High\"\n",
    "    elif Amount>200:\n",
    "        return \"Medium\"\n",
    "    else:\n",
    "        return \"Low\"\n",
    "df[\"TransactionCategory\"]=df[\"Amount\"].apply(s)"
   ]
  },
  {
   "cell_type": "code",
   "execution_count": 34,
   "metadata": {},
   "outputs": [
    {
     "data": {
      "text/plain": [
       "Region\n",
       "East    2023-04-01\n",
       "North   2023-04-05\n",
       "South   2023-02-20\n",
       "West    2023-04-12\n",
       "Name: TransactionDate, dtype: datetime64[ns]"
      ]
     },
     "execution_count": 34,
     "metadata": {},
     "output_type": "execute_result"
    }
   ],
   "source": [
    "df.groupby('Region')[\"TransactionDate\"].max()"
   ]
  },
  {
   "cell_type": "code",
   "execution_count": null,
   "metadata": {},
   "outputs": [],
   "source": []
  }
 ],
 "metadata": {
  "kernelspec": {
   "display_name": "Python 3",
   "language": "python",
   "name": "python3"
  },
  "language_info": {
   "codemirror_mode": {
    "name": "ipython",
    "version": 3
   },
   "file_extension": ".py",
   "mimetype": "text/x-python",
   "name": "python",
   "nbconvert_exporter": "python",
   "pygments_lexer": "ipython3",
   "version": "3.12.4"
  }
 },
 "nbformat": 4,
 "nbformat_minor": 2
}
