{
 "cells": [
  {
   "cell_type": "code",
   "execution_count": 1,
   "metadata": {},
   "outputs": [
    {
     "data": {
      "text/plain": [
       "'1. Filtering and Displaying Data\\na) Find all rows where the City is either \"Chicago\" or \"San Fransico\", and display only the Name and Marks.\\n\\nb) Display the rows where Gender is \"Male\", and Marks are between 75 and 90 (inclusive).\\n\\n2. Adding and Modifying Columns\\na) Create a new column called Bonus where each student gets a bonus of 5 marks if their current Marks is less than 85. For others, add 2 marks.\\n\\nb) Modify the Age column by increasing every value by 1 year (to simulate a year passed).\\n\\n3. Using groupby\\na) Find the average Marks for each City.\\nb) Find the total number of students for each Gender.\\n\\n4. Complex Filtering\\na) Find all rows where:\\n\\nThe City is either \"Los Angeles\" or \"Chicago\",\\nThe Marks are greater than 80,\\nThe Age is less than 22.\\n5. Sorting\\na) Sort the entire DataFrame by Marks in descending order.\\nb) Sort by City and then by Marks (both in ascending order).\\n\\nBonus Question\\nSimulate a new DataFrame vr_copy where the Marks values for students from \"Chicago\" are increased by 10%.\\nHint: Use .copy() to avoid modifying the original DataFrame. '"
      ]
     },
     "execution_count": 1,
     "metadata": {},
     "output_type": "execute_result"
    }
   ],
   "source": [
    "'''1. Filtering and Displaying Data\n",
    "a) Find all rows where the City is either \"Chicago\" or \"San Fransico\", and display only the Name and Marks.\n",
    "\n",
    "b) Display the rows where Gender is \"Male\", and Marks are between 75 and 90 (inclusive).\n",
    "\n",
    "2. Adding and Modifying Columns\n",
    "a) Create a new column called Bonus where each student gets a bonus of 5 marks if their current Marks is less than 85. For others, add 2 marks.\n",
    "\n",
    "b) Modify the Age column by increasing every value by 1 year (to simulate a year passed).\n",
    "\n",
    "3. Using groupby\n",
    "a) Find the average Marks for each City.\n",
    "b) Find the total number of students for each Gender.\n",
    "\n",
    "4. Complex Filtering\n",
    "a) Find all rows where:\n",
    "\n",
    "The City is either \"Los Angeles\" or \"Chicago\",\n",
    "The Marks are greater than 80,\n",
    "The Age is less than 22.\n",
    "5. Sorting\n",
    "a) Sort the entire DataFrame by Marks in descending order.\n",
    "b) Sort by City and then by Marks (both in ascending order).\n",
    "\n",
    "Bonus Question\n",
    "Simulate a new DataFrame vr_copy where the Marks values for students from \"Chicago\" are increased by 10%.\n",
    "Hint: Use .copy() to avoid modifying the original DataFrame. '''"
   ]
  },
  {
   "cell_type": "code",
   "execution_count": 1,
   "metadata": {},
   "outputs": [],
   "source": [
    "import pandas as pd"
   ]
  },
  {
   "cell_type": "code",
   "execution_count": 2,
   "metadata": {},
   "outputs": [],
   "source": [
    "d1={\"Name\":[\"John\",\"Alice\",\"Bob\",\"Emma\"],\n",
    "\"Age\":[20,22,12,21],\n",
    "\"Gender\":[\"Male\",\"Female\",\"Male\",\"Female\"],\n",
    "\"Marks\":[88,92,75,89],\n",
    "\"City\":[\"New York\",\"Los Angeles\",\"Chicago\",\"San Fransico\"]}\n",
    "vr=pd.DataFrame(d1)"
   ]
  },
  {
   "cell_type": "code",
   "execution_count": 3,
   "metadata": {},
   "outputs": [
    {
     "data": {
      "text/html": [
       "<div>\n",
       "<style scoped>\n",
       "    .dataframe tbody tr th:only-of-type {\n",
       "        vertical-align: middle;\n",
       "    }\n",
       "\n",
       "    .dataframe tbody tr th {\n",
       "        vertical-align: top;\n",
       "    }\n",
       "\n",
       "    .dataframe thead th {\n",
       "        text-align: right;\n",
       "    }\n",
       "</style>\n",
       "<table border=\"1\" class=\"dataframe\">\n",
       "  <thead>\n",
       "    <tr style=\"text-align: right;\">\n",
       "      <th></th>\n",
       "      <th>Name</th>\n",
       "      <th>Marks</th>\n",
       "    </tr>\n",
       "  </thead>\n",
       "  <tbody>\n",
       "    <tr>\n",
       "      <th>2</th>\n",
       "      <td>Bob</td>\n",
       "      <td>75</td>\n",
       "    </tr>\n",
       "    <tr>\n",
       "      <th>3</th>\n",
       "      <td>Emma</td>\n",
       "      <td>89</td>\n",
       "    </tr>\n",
       "  </tbody>\n",
       "</table>\n",
       "</div>"
      ],
      "text/plain": [
       "   Name  Marks\n",
       "2   Bob     75\n",
       "3  Emma     89"
      ]
     },
     "execution_count": 3,
     "metadata": {},
     "output_type": "execute_result"
    }
   ],
   "source": [
    "vr.loc[(vr[\"City\"]==\"Chicago\")|(vr[\"City\"]==\"San Fransico\")][[\"Name\",\"Marks\"]]"
   ]
  },
  {
   "cell_type": "code",
   "execution_count": 4,
   "metadata": {},
   "outputs": [
    {
     "data": {
      "text/html": [
       "<div>\n",
       "<style scoped>\n",
       "    .dataframe tbody tr th:only-of-type {\n",
       "        vertical-align: middle;\n",
       "    }\n",
       "\n",
       "    .dataframe tbody tr th {\n",
       "        vertical-align: top;\n",
       "    }\n",
       "\n",
       "    .dataframe thead th {\n",
       "        text-align: right;\n",
       "    }\n",
       "</style>\n",
       "<table border=\"1\" class=\"dataframe\">\n",
       "  <thead>\n",
       "    <tr style=\"text-align: right;\">\n",
       "      <th></th>\n",
       "      <th>Name</th>\n",
       "      <th>Age</th>\n",
       "      <th>Gender</th>\n",
       "      <th>Marks</th>\n",
       "      <th>City</th>\n",
       "    </tr>\n",
       "  </thead>\n",
       "  <tbody>\n",
       "    <tr>\n",
       "      <th>0</th>\n",
       "      <td>John</td>\n",
       "      <td>20</td>\n",
       "      <td>Male</td>\n",
       "      <td>88</td>\n",
       "      <td>New York</td>\n",
       "    </tr>\n",
       "    <tr>\n",
       "      <th>2</th>\n",
       "      <td>Bob</td>\n",
       "      <td>12</td>\n",
       "      <td>Male</td>\n",
       "      <td>75</td>\n",
       "      <td>Chicago</td>\n",
       "    </tr>\n",
       "  </tbody>\n",
       "</table>\n",
       "</div>"
      ],
      "text/plain": [
       "   Name  Age Gender  Marks      City\n",
       "0  John   20   Male     88  New York\n",
       "2   Bob   12   Male     75   Chicago"
      ]
     },
     "execution_count": 4,
     "metadata": {},
     "output_type": "execute_result"
    }
   ],
   "source": [
    "vr.loc[vr[\"Gender\"] == \"Male\"]\n",
    "#The second condition is redundant because all numbers are either greater than 75 or less than 90."
   ]
  },
  {
   "cell_type": "code",
   "execution_count": 5,
   "metadata": {},
   "outputs": [
    {
     "data": {
      "text/html": [
       "<div>\n",
       "<style scoped>\n",
       "    .dataframe tbody tr th:only-of-type {\n",
       "        vertical-align: middle;\n",
       "    }\n",
       "\n",
       "    .dataframe tbody tr th {\n",
       "        vertical-align: top;\n",
       "    }\n",
       "\n",
       "    .dataframe thead th {\n",
       "        text-align: right;\n",
       "    }\n",
       "</style>\n",
       "<table border=\"1\" class=\"dataframe\">\n",
       "  <thead>\n",
       "    <tr style=\"text-align: right;\">\n",
       "      <th></th>\n",
       "      <th>Name</th>\n",
       "      <th>Age</th>\n",
       "      <th>Gender</th>\n",
       "      <th>Marks</th>\n",
       "      <th>City</th>\n",
       "      <th>Bonus</th>\n",
       "    </tr>\n",
       "  </thead>\n",
       "  <tbody>\n",
       "    <tr>\n",
       "      <th>0</th>\n",
       "      <td>John</td>\n",
       "      <td>20</td>\n",
       "      <td>Male</td>\n",
       "      <td>88</td>\n",
       "      <td>New York</td>\n",
       "      <td>90</td>\n",
       "    </tr>\n",
       "    <tr>\n",
       "      <th>1</th>\n",
       "      <td>Alice</td>\n",
       "      <td>22</td>\n",
       "      <td>Female</td>\n",
       "      <td>92</td>\n",
       "      <td>Los Angeles</td>\n",
       "      <td>94</td>\n",
       "    </tr>\n",
       "    <tr>\n",
       "      <th>2</th>\n",
       "      <td>Bob</td>\n",
       "      <td>12</td>\n",
       "      <td>Male</td>\n",
       "      <td>75</td>\n",
       "      <td>Chicago</td>\n",
       "      <td>80</td>\n",
       "    </tr>\n",
       "    <tr>\n",
       "      <th>3</th>\n",
       "      <td>Emma</td>\n",
       "      <td>21</td>\n",
       "      <td>Female</td>\n",
       "      <td>89</td>\n",
       "      <td>San Fransico</td>\n",
       "      <td>91</td>\n",
       "    </tr>\n",
       "  </tbody>\n",
       "</table>\n",
       "</div>"
      ],
      "text/plain": [
       "    Name  Age  Gender  Marks          City  Bonus\n",
       "0   John   20    Male     88      New York     90\n",
       "1  Alice   22  Female     92   Los Angeles     94\n",
       "2    Bob   12    Male     75       Chicago     80\n",
       "3   Emma   21  Female     89  San Fransico     91"
      ]
     },
     "execution_count": 5,
     "metadata": {},
     "output_type": "execute_result"
    }
   ],
   "source": [
    "def bonus(Marks):\n",
    "    if Marks<85:\n",
    "        return Marks+5\n",
    "    else:\n",
    "        return Marks+2\n",
    "vr[\"Bonus\"]=vr[\"Marks\"].apply(bonus)\n",
    "vr\n"
   ]
  },
  {
   "cell_type": "code",
   "execution_count": 23,
   "metadata": {},
   "outputs": [
    {
     "data": {
      "text/html": [
       "<div>\n",
       "<style scoped>\n",
       "    .dataframe tbody tr th:only-of-type {\n",
       "        vertical-align: middle;\n",
       "    }\n",
       "\n",
       "    .dataframe tbody tr th {\n",
       "        vertical-align: top;\n",
       "    }\n",
       "\n",
       "    .dataframe thead th {\n",
       "        text-align: right;\n",
       "    }\n",
       "</style>\n",
       "<table border=\"1\" class=\"dataframe\">\n",
       "  <thead>\n",
       "    <tr style=\"text-align: right;\">\n",
       "      <th></th>\n",
       "      <th>Name</th>\n",
       "      <th>Age</th>\n",
       "      <th>Gender</th>\n",
       "      <th>Marks</th>\n",
       "      <th>City</th>\n",
       "      <th>Bonus</th>\n",
       "    </tr>\n",
       "  </thead>\n",
       "  <tbody>\n",
       "    <tr>\n",
       "      <th>0</th>\n",
       "      <td>John</td>\n",
       "      <td>21</td>\n",
       "      <td>Male</td>\n",
       "      <td>88</td>\n",
       "      <td>New York</td>\n",
       "      <td>90</td>\n",
       "    </tr>\n",
       "    <tr>\n",
       "      <th>1</th>\n",
       "      <td>Alice</td>\n",
       "      <td>23</td>\n",
       "      <td>Female</td>\n",
       "      <td>92</td>\n",
       "      <td>Los Angeles</td>\n",
       "      <td>94</td>\n",
       "    </tr>\n",
       "    <tr>\n",
       "      <th>2</th>\n",
       "      <td>Bob</td>\n",
       "      <td>13</td>\n",
       "      <td>Male</td>\n",
       "      <td>75</td>\n",
       "      <td>Chicago</td>\n",
       "      <td>80</td>\n",
       "    </tr>\n",
       "    <tr>\n",
       "      <th>3</th>\n",
       "      <td>Emma</td>\n",
       "      <td>22</td>\n",
       "      <td>Female</td>\n",
       "      <td>89</td>\n",
       "      <td>San Fransico</td>\n",
       "      <td>91</td>\n",
       "    </tr>\n",
       "  </tbody>\n",
       "</table>\n",
       "</div>"
      ],
      "text/plain": [
       "    Name  Age  Gender  Marks          City  Bonus\n",
       "0   John   21    Male     88      New York     90\n",
       "1  Alice   23  Female     92   Los Angeles     94\n",
       "2    Bob   13    Male     75       Chicago     80\n",
       "3   Emma   22  Female     89  San Fransico     91"
      ]
     },
     "execution_count": 23,
     "metadata": {},
     "output_type": "execute_result"
    }
   ],
   "source": [
    "vr[\"Age\"] = [20, 22, 12, 21]  # Reset to original Age values\n",
    "vr[\"Age\"] = vr[\"Age\"] + 1\n",
    "vr\n"
   ]
  },
  {
   "cell_type": "code",
   "execution_count": 19,
   "metadata": {},
   "outputs": [
    {
     "data": {
      "text/plain": [
       "City\n",
       "Chicago         75.0\n",
       "Los Angeles     92.0\n",
       "New York        88.0\n",
       "San Fransico    89.0\n",
       "Name: Marks, dtype: float64"
      ]
     },
     "execution_count": 19,
     "metadata": {},
     "output_type": "execute_result"
    }
   ],
   "source": [
    "vr.groupby(\"City\")[\"Marks\"].mean()"
   ]
  },
  {
   "cell_type": "code",
   "execution_count": 6,
   "metadata": {},
   "outputs": [
    {
     "data": {
      "text/plain": [
       "Gender\n",
       "Male      2\n",
       "Female    2\n",
       "Name: count, dtype: int64"
      ]
     },
     "execution_count": 6,
     "metadata": {},
     "output_type": "execute_result"
    }
   ],
   "source": [
    "vr[\"Gender\"].value_counts()"
   ]
  },
  {
   "cell_type": "code",
   "execution_count": 9,
   "metadata": {},
   "outputs": [
    {
     "data": {
      "text/html": [
       "<div>\n",
       "<style scoped>\n",
       "    .dataframe tbody tr th:only-of-type {\n",
       "        vertical-align: middle;\n",
       "    }\n",
       "\n",
       "    .dataframe tbody tr th {\n",
       "        vertical-align: top;\n",
       "    }\n",
       "\n",
       "    .dataframe thead th {\n",
       "        text-align: right;\n",
       "    }\n",
       "</style>\n",
       "<table border=\"1\" class=\"dataframe\">\n",
       "  <thead>\n",
       "    <tr style=\"text-align: right;\">\n",
       "      <th></th>\n",
       "      <th>Name</th>\n",
       "      <th>Age</th>\n",
       "      <th>Gender</th>\n",
       "      <th>Marks</th>\n",
       "      <th>City</th>\n",
       "      <th>Bonus</th>\n",
       "    </tr>\n",
       "  </thead>\n",
       "  <tbody>\n",
       "  </tbody>\n",
       "</table>\n",
       "</div>"
      ],
      "text/plain": [
       "Empty DataFrame\n",
       "Columns: [Name, Age, Gender, Marks, City, Bonus]\n",
       "Index: []"
      ]
     },
     "execution_count": 9,
     "metadata": {},
     "output_type": "execute_result"
    }
   ],
   "source": [
    "vr.loc[(((vr[\"City\"]==\"Los Angeles\")|(vr[\"City\"]==\"Chicago\"))&(vr[\"Marks\"]>80)&(vr[\"Age\"]<22))]"
   ]
  },
  {
   "cell_type": "code",
   "execution_count": 10,
   "metadata": {},
   "outputs": [
    {
     "data": {
      "text/html": [
       "<div>\n",
       "<style scoped>\n",
       "    .dataframe tbody tr th:only-of-type {\n",
       "        vertical-align: middle;\n",
       "    }\n",
       "\n",
       "    .dataframe tbody tr th {\n",
       "        vertical-align: top;\n",
       "    }\n",
       "\n",
       "    .dataframe thead th {\n",
       "        text-align: right;\n",
       "    }\n",
       "</style>\n",
       "<table border=\"1\" class=\"dataframe\">\n",
       "  <thead>\n",
       "    <tr style=\"text-align: right;\">\n",
       "      <th></th>\n",
       "      <th>Name</th>\n",
       "      <th>Age</th>\n",
       "      <th>Gender</th>\n",
       "      <th>Marks</th>\n",
       "      <th>City</th>\n",
       "      <th>Bonus</th>\n",
       "    </tr>\n",
       "  </thead>\n",
       "  <tbody>\n",
       "    <tr>\n",
       "      <th>1</th>\n",
       "      <td>Alice</td>\n",
       "      <td>22</td>\n",
       "      <td>Female</td>\n",
       "      <td>92</td>\n",
       "      <td>Los Angeles</td>\n",
       "      <td>94</td>\n",
       "    </tr>\n",
       "    <tr>\n",
       "      <th>3</th>\n",
       "      <td>Emma</td>\n",
       "      <td>21</td>\n",
       "      <td>Female</td>\n",
       "      <td>89</td>\n",
       "      <td>San Fransico</td>\n",
       "      <td>91</td>\n",
       "    </tr>\n",
       "    <tr>\n",
       "      <th>0</th>\n",
       "      <td>John</td>\n",
       "      <td>20</td>\n",
       "      <td>Male</td>\n",
       "      <td>88</td>\n",
       "      <td>New York</td>\n",
       "      <td>90</td>\n",
       "    </tr>\n",
       "    <tr>\n",
       "      <th>2</th>\n",
       "      <td>Bob</td>\n",
       "      <td>12</td>\n",
       "      <td>Male</td>\n",
       "      <td>75</td>\n",
       "      <td>Chicago</td>\n",
       "      <td>80</td>\n",
       "    </tr>\n",
       "  </tbody>\n",
       "</table>\n",
       "</div>"
      ],
      "text/plain": [
       "    Name  Age  Gender  Marks          City  Bonus\n",
       "1  Alice   22  Female     92   Los Angeles     94\n",
       "3   Emma   21  Female     89  San Fransico     91\n",
       "0   John   20    Male     88      New York     90\n",
       "2    Bob   12    Male     75       Chicago     80"
      ]
     },
     "execution_count": 10,
     "metadata": {},
     "output_type": "execute_result"
    }
   ],
   "source": [
    "vr.sort_values(by=\"Marks\",ascending=False)"
   ]
  },
  {
   "cell_type": "code",
   "execution_count": 20,
   "metadata": {},
   "outputs": [
    {
     "data": {
      "text/html": [
       "<div>\n",
       "<style scoped>\n",
       "    .dataframe tbody tr th:only-of-type {\n",
       "        vertical-align: middle;\n",
       "    }\n",
       "\n",
       "    .dataframe tbody tr th {\n",
       "        vertical-align: top;\n",
       "    }\n",
       "\n",
       "    .dataframe thead th {\n",
       "        text-align: right;\n",
       "    }\n",
       "</style>\n",
       "<table border=\"1\" class=\"dataframe\">\n",
       "  <thead>\n",
       "    <tr style=\"text-align: right;\">\n",
       "      <th></th>\n",
       "      <th>Name</th>\n",
       "      <th>Age</th>\n",
       "      <th>Gender</th>\n",
       "      <th>Marks</th>\n",
       "      <th>City</th>\n",
       "      <th>Bonus</th>\n",
       "    </tr>\n",
       "  </thead>\n",
       "  <tbody>\n",
       "    <tr>\n",
       "      <th>2</th>\n",
       "      <td>Bob</td>\n",
       "      <td>14</td>\n",
       "      <td>Male</td>\n",
       "      <td>75</td>\n",
       "      <td>Chicago</td>\n",
       "      <td>80</td>\n",
       "    </tr>\n",
       "    <tr>\n",
       "      <th>1</th>\n",
       "      <td>Alice</td>\n",
       "      <td>24</td>\n",
       "      <td>Female</td>\n",
       "      <td>92</td>\n",
       "      <td>Los Angeles</td>\n",
       "      <td>94</td>\n",
       "    </tr>\n",
       "    <tr>\n",
       "      <th>0</th>\n",
       "      <td>John</td>\n",
       "      <td>22</td>\n",
       "      <td>Male</td>\n",
       "      <td>88</td>\n",
       "      <td>New York</td>\n",
       "      <td>90</td>\n",
       "    </tr>\n",
       "    <tr>\n",
       "      <th>3</th>\n",
       "      <td>Emma</td>\n",
       "      <td>23</td>\n",
       "      <td>Female</td>\n",
       "      <td>89</td>\n",
       "      <td>San Fransico</td>\n",
       "      <td>91</td>\n",
       "    </tr>\n",
       "  </tbody>\n",
       "</table>\n",
       "</div>"
      ],
      "text/plain": [
       "    Name  Age  Gender  Marks          City  Bonus\n",
       "2    Bob   14    Male     75       Chicago     80\n",
       "1  Alice   24  Female     92   Los Angeles     94\n",
       "0   John   22    Male     88      New York     90\n",
       "3   Emma   23  Female     89  San Fransico     91"
      ]
     },
     "execution_count": 20,
     "metadata": {},
     "output_type": "execute_result"
    }
   ],
   "source": [
    "vr.sort_values(by=[\"City\",\"Marks\"],ascending=True)"
   ]
  },
  {
   "cell_type": "code",
   "execution_count": 25,
   "metadata": {},
   "outputs": [
    {
     "name": "stderr",
     "output_type": "stream",
     "text": [
      "C:\\Users\\Jashwanth\\AppData\\Local\\Temp\\ipykernel_24364\\750708283.py:2: FutureWarning: Setting an item of incompatible dtype is deprecated and will raise an error in a future version of pandas. Value '[82.5]' has dtype incompatible with int64, please explicitly cast to a compatible dtype first.\n",
      "  vr_copy.loc[vr_copy[\"City\"]==\"Chicago\",\"Marks\"]*=1.10 # Increase the Marks by 10% for students in \"Chicago\"\n"
     ]
    },
    {
     "data": {
      "text/html": [
       "<div>\n",
       "<style scoped>\n",
       "    .dataframe tbody tr th:only-of-type {\n",
       "        vertical-align: middle;\n",
       "    }\n",
       "\n",
       "    .dataframe tbody tr th {\n",
       "        vertical-align: top;\n",
       "    }\n",
       "\n",
       "    .dataframe thead th {\n",
       "        text-align: right;\n",
       "    }\n",
       "</style>\n",
       "<table border=\"1\" class=\"dataframe\">\n",
       "  <thead>\n",
       "    <tr style=\"text-align: right;\">\n",
       "      <th></th>\n",
       "      <th>Name</th>\n",
       "      <th>Age</th>\n",
       "      <th>Gender</th>\n",
       "      <th>Marks</th>\n",
       "      <th>City</th>\n",
       "      <th>Bonus</th>\n",
       "    </tr>\n",
       "  </thead>\n",
       "  <tbody>\n",
       "    <tr>\n",
       "      <th>0</th>\n",
       "      <td>John</td>\n",
       "      <td>21</td>\n",
       "      <td>Male</td>\n",
       "      <td>88.0</td>\n",
       "      <td>New York</td>\n",
       "      <td>90</td>\n",
       "    </tr>\n",
       "    <tr>\n",
       "      <th>1</th>\n",
       "      <td>Alice</td>\n",
       "      <td>23</td>\n",
       "      <td>Female</td>\n",
       "      <td>92.0</td>\n",
       "      <td>Los Angeles</td>\n",
       "      <td>94</td>\n",
       "    </tr>\n",
       "    <tr>\n",
       "      <th>2</th>\n",
       "      <td>Bob</td>\n",
       "      <td>13</td>\n",
       "      <td>Male</td>\n",
       "      <td>82.5</td>\n",
       "      <td>Chicago</td>\n",
       "      <td>80</td>\n",
       "    </tr>\n",
       "    <tr>\n",
       "      <th>3</th>\n",
       "      <td>Emma</td>\n",
       "      <td>22</td>\n",
       "      <td>Female</td>\n",
       "      <td>89.0</td>\n",
       "      <td>San Fransico</td>\n",
       "      <td>91</td>\n",
       "    </tr>\n",
       "  </tbody>\n",
       "</table>\n",
       "</div>"
      ],
      "text/plain": [
       "    Name  Age  Gender  Marks          City  Bonus\n",
       "0   John   21    Male   88.0      New York     90\n",
       "1  Alice   23  Female   92.0   Los Angeles     94\n",
       "2    Bob   13    Male   82.5       Chicago     80\n",
       "3   Emma   22  Female   89.0  San Fransico     91"
      ]
     },
     "execution_count": 25,
     "metadata": {},
     "output_type": "execute_result"
    }
   ],
   "source": [
    "vr_copy=vr.copy()# Create a copy of the original DataFrame\n",
    "vr_copy.loc[vr_copy[\"City\"]==\"Chicago\",\"Marks\"]*=1.10 # Increase the Marks by 10% for students in \"Chicago\"\n",
    "vr_copy"
   ]
  },
  {
   "cell_type": "code",
   "execution_count": null,
   "metadata": {},
   "outputs": [],
   "source": []
  }
 ],
 "metadata": {
  "kernelspec": {
   "display_name": "Python 3",
   "language": "python",
   "name": "python3"
  },
  "language_info": {
   "codemirror_mode": {
    "name": "ipython",
    "version": 3
   },
   "file_extension": ".py",
   "mimetype": "text/x-python",
   "name": "python",
   "nbconvert_exporter": "python",
   "pygments_lexer": "ipython3",
   "version": "3.12.4"
  }
 },
 "nbformat": 4,
 "nbformat_minor": 2
}
