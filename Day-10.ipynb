{
 "cells": [
  {
   "cell_type": "markdown",
   "metadata": {},
   "source": [
    "Problem 1: Groupby Aggregation\n",
    "\n",
    "Find the total Marks for each Gender.\n",
    "\n",
    "Calculate the average Age for each City.\n",
    "\n",
    "Problem 2: Multi-Aggregation\n",
    "\n",
    "For each City, calculate both:\n",
    "\n",
    "The maximum Marks.\n",
    "\n",
    "The minimum Age.\n",
    "\n",
    "Problem 3: Handling Dates\n",
    "\n",
    "Create a new column, JoinDate, with random dates between January 1, 2023, and December 31, 2023.\n",
    "\n",
    "Group by JoinDate (month-wise) and find the total Marks for students who joined in the same month.\n",
    "\n",
    "Hint: Use pd.to_datetime() and dt.month.\n",
    "\n",
    "Problem 4: Combining Conditions with Groupby\n",
    "\n",
    "Find the average Marks for Male students from \"Chicago\" or \"New York.\"\n",
    "\n",
    "\n",
    "Bonus:\n",
    "\n",
    "Using groupby(), determine:\n",
    "\n",
    "The number of students grouped by both Gender and City.\n",
    "\n",
    "Write a custom function to calculate:\n",
    "\n",
    "The performance category (\"High\", \"Medium\", \"Low\") based on Marks for each group.\n",
    "\n",
    "Assign it to a new column called PerformanceCategory. "
   ]
  },
  {
   "cell_type": "code",
   "execution_count": 1,
   "metadata": {},
   "outputs": [],
   "source": [
    "import pandas as pd"
   ]
  },
  {
   "cell_type": "code",
   "execution_count": 2,
   "metadata": {},
   "outputs": [],
   "source": [
    "d1={\"Name\":[\"John\",\"Alice\",\"Bob\",\"Emma\"],\n",
    "\"Age\":[20,22,12,21],\n",
    "\"Gender\":[\"Male\",\"Female\",\"Male\",\"Female\"],\n",
    "\"Marks\":[88,92,75,89],\n",
    "\"City\":[\"New York\",\"Los Angeles\",\"Chicago\",\"San Fransico\"]}\n",
    "vr=pd.DataFrame(d1)"
   ]
  },
  {
   "cell_type": "code",
   "execution_count": 3,
   "metadata": {},
   "outputs": [
    {
     "data": {
      "text/plain": [
       "Gender\n",
       "Female    181\n",
       "Male      163\n",
       "Name: Marks, dtype: int64"
      ]
     },
     "execution_count": 3,
     "metadata": {},
     "output_type": "execute_result"
    }
   ],
   "source": [
    "vr.groupby(\"Gender\")[\"Marks\"].sum()"
   ]
  },
  {
   "cell_type": "code",
   "execution_count": 4,
   "metadata": {},
   "outputs": [
    {
     "data": {
      "text/plain": [
       "City\n",
       "Chicago         12.0\n",
       "Los Angeles     22.0\n",
       "New York        20.0\n",
       "San Fransico    21.0\n",
       "Name: Age, dtype: float64"
      ]
     },
     "execution_count": 4,
     "metadata": {},
     "output_type": "execute_result"
    }
   ],
   "source": [
    "vr.groupby(\"City\")[\"Age\"].mean()"
   ]
  },
  {
   "cell_type": "code",
   "execution_count": 5,
   "metadata": {},
   "outputs": [
    {
     "data": {
      "text/html": [
       "<div>\n",
       "<style scoped>\n",
       "    .dataframe tbody tr th:only-of-type {\n",
       "        vertical-align: middle;\n",
       "    }\n",
       "\n",
       "    .dataframe tbody tr th {\n",
       "        vertical-align: top;\n",
       "    }\n",
       "\n",
       "    .dataframe thead th {\n",
       "        text-align: right;\n",
       "    }\n",
       "</style>\n",
       "<table border=\"1\" class=\"dataframe\">\n",
       "  <thead>\n",
       "    <tr style=\"text-align: right;\">\n",
       "      <th></th>\n",
       "      <th>Maxmarks</th>\n",
       "      <th>minAge</th>\n",
       "    </tr>\n",
       "    <tr>\n",
       "      <th>City</th>\n",
       "      <th></th>\n",
       "      <th></th>\n",
       "    </tr>\n",
       "  </thead>\n",
       "  <tbody>\n",
       "    <tr>\n",
       "      <th>Chicago</th>\n",
       "      <td>75</td>\n",
       "      <td>12</td>\n",
       "    </tr>\n",
       "    <tr>\n",
       "      <th>Los Angeles</th>\n",
       "      <td>92</td>\n",
       "      <td>22</td>\n",
       "    </tr>\n",
       "    <tr>\n",
       "      <th>New York</th>\n",
       "      <td>88</td>\n",
       "      <td>20</td>\n",
       "    </tr>\n",
       "    <tr>\n",
       "      <th>San Fransico</th>\n",
       "      <td>89</td>\n",
       "      <td>21</td>\n",
       "    </tr>\n",
       "  </tbody>\n",
       "</table>\n",
       "</div>"
      ],
      "text/plain": [
       "              Maxmarks  minAge\n",
       "City                          \n",
       "Chicago             75      12\n",
       "Los Angeles         92      22\n",
       "New York            88      20\n",
       "San Fransico        89      21"
      ]
     },
     "execution_count": 5,
     "metadata": {},
     "output_type": "execute_result"
    }
   ],
   "source": [
    "c=vr.groupby(\"City\").agg(Maxmarks=(\"Marks\",\"max\"),minAge=(\"Age\",\"min\")) #multiagg\n",
    "c"
   ]
  },
  {
   "cell_type": "code",
   "execution_count": 6,
   "metadata": {},
   "outputs": [
    {
     "name": "stdout",
     "output_type": "stream",
     "text": [
      "    Name  Age  Gender  Marks          City   JoinDate\n",
      "0   John   20    Male     88      New York 2023-04-13\n",
      "1  Alice   22  Female     92   Los Angeles 2023-12-15\n",
      "2    Bob   12    Male     75       Chicago 2023-09-28\n",
      "3   Emma   21  Female     89  San Fransico 2023-04-17\n"
     ]
    }
   ],
   "source": [
    "import pandas as pd\n",
    "import numpy as np\n",
    "\n",
    "# Generate random dates\n",
    "np.random.seed(42)\n",
    "random_dates = pd.to_datetime(np.random.choice(pd.date_range(\"2023-01-01\", \"2023-12-31\"), len(vr)))\n",
    "vr[\"JoinDate\"] = random_dates\n",
    "print(vr)\n",
    "\n"
   ]
  },
  {
   "cell_type": "code",
   "execution_count": 7,
   "metadata": {},
   "outputs": [
    {
     "name": "stdout",
     "output_type": "stream",
     "text": [
      "JoinMonth\n",
      "4     177\n",
      "9      75\n",
      "12     92\n",
      "Name: Marks, dtype: int64\n"
     ]
    }
   ],
   "source": [
    "# Add a column for months\n",
    "vr[\"JoinMonth\"] = vr[\"JoinDate\"].dt.month\n",
    "\n",
    "# Group by month and calculate total Marks\n",
    "marks_by_month = vr.groupby(\"JoinMonth\")[\"Marks\"].sum()\n",
    "print(marks_by_month)\n"
   ]
  },
  {
   "cell_type": "code",
   "execution_count": 8,
   "metadata": {},
   "outputs": [
    {
     "data": {
      "text/plain": [
       "City\n",
       "Chicago     75.0\n",
       "New York    88.0\n",
       "Name: Marks, dtype: float64"
      ]
     },
     "execution_count": 8,
     "metadata": {},
     "output_type": "execute_result"
    }
   ],
   "source": [
    "s=vr.loc[(vr[\"Gender\"]==\"Male\")&(vr[\"City\"].isin([\"Chicago\",\"New York\"]))].groupby(\"City\")[\"Marks\"].mean()\n",
    "s"
   ]
  },
  {
   "cell_type": "code",
   "execution_count": 9,
   "metadata": {},
   "outputs": [
    {
     "data": {
      "text/html": [
       "<div>\n",
       "<style scoped>\n",
       "    .dataframe tbody tr th:only-of-type {\n",
       "        vertical-align: middle;\n",
       "    }\n",
       "\n",
       "    .dataframe tbody tr th {\n",
       "        vertical-align: top;\n",
       "    }\n",
       "\n",
       "    .dataframe thead th {\n",
       "        text-align: right;\n",
       "    }\n",
       "</style>\n",
       "<table border=\"1\" class=\"dataframe\">\n",
       "  <thead>\n",
       "    <tr style=\"text-align: right;\">\n",
       "      <th></th>\n",
       "      <th>Name</th>\n",
       "      <th>Age</th>\n",
       "      <th>Gender</th>\n",
       "      <th>Marks</th>\n",
       "      <th>City</th>\n",
       "      <th>JoinDate</th>\n",
       "      <th>JoinMonth</th>\n",
       "      <th>PerformanceCategory</th>\n",
       "    </tr>\n",
       "  </thead>\n",
       "  <tbody>\n",
       "    <tr>\n",
       "      <th>0</th>\n",
       "      <td>John</td>\n",
       "      <td>20</td>\n",
       "      <td>Male</td>\n",
       "      <td>88</td>\n",
       "      <td>New York</td>\n",
       "      <td>2023-04-13</td>\n",
       "      <td>4</td>\n",
       "      <td>Meduim</td>\n",
       "    </tr>\n",
       "    <tr>\n",
       "      <th>1</th>\n",
       "      <td>Alice</td>\n",
       "      <td>22</td>\n",
       "      <td>Female</td>\n",
       "      <td>92</td>\n",
       "      <td>Los Angeles</td>\n",
       "      <td>2023-12-15</td>\n",
       "      <td>12</td>\n",
       "      <td>High</td>\n",
       "    </tr>\n",
       "    <tr>\n",
       "      <th>2</th>\n",
       "      <td>Bob</td>\n",
       "      <td>12</td>\n",
       "      <td>Male</td>\n",
       "      <td>75</td>\n",
       "      <td>Chicago</td>\n",
       "      <td>2023-09-28</td>\n",
       "      <td>9</td>\n",
       "      <td>Low</td>\n",
       "    </tr>\n",
       "    <tr>\n",
       "      <th>3</th>\n",
       "      <td>Emma</td>\n",
       "      <td>21</td>\n",
       "      <td>Female</td>\n",
       "      <td>89</td>\n",
       "      <td>San Fransico</td>\n",
       "      <td>2023-04-17</td>\n",
       "      <td>4</td>\n",
       "      <td>Meduim</td>\n",
       "    </tr>\n",
       "  </tbody>\n",
       "</table>\n",
       "</div>"
      ],
      "text/plain": [
       "    Name  Age  Gender  Marks          City   JoinDate  JoinMonth  \\\n",
       "0   John   20    Male     88      New York 2023-04-13          4   \n",
       "1  Alice   22  Female     92   Los Angeles 2023-12-15         12   \n",
       "2    Bob   12    Male     75       Chicago 2023-09-28          9   \n",
       "3   Emma   21  Female     89  San Fransico 2023-04-17          4   \n",
       "\n",
       "  PerformanceCategory  \n",
       "0              Meduim  \n",
       "1                High  \n",
       "2                 Low  \n",
       "3              Meduim  "
      ]
     },
     "execution_count": 9,
     "metadata": {},
     "output_type": "execute_result"
    }
   ],
   "source": [
    "def per(Marks):\n",
    "    if Marks>90:\n",
    "        return \"High\"\n",
    "    elif Marks>80:\n",
    "        return \"Meduim\"\n",
    "    else:\n",
    "        return \"Low\"\n",
    "vr[\"PerformanceCategory\"]=vr[\"Marks\"].apply(per)\n",
    "vr"
   ]
  },
  {
   "cell_type": "code",
   "execution_count": 10,
   "metadata": {},
   "outputs": [
    {
     "data": {
      "text/plain": [
       "Gender  City        \n",
       "Female  Los Angeles     1\n",
       "        San Fransico    1\n",
       "Male    Chicago         1\n",
       "        New York        1\n",
       "dtype: int64"
      ]
     },
     "execution_count": 10,
     "metadata": {},
     "output_type": "execute_result"
    }
   ],
   "source": [
    "vr.groupby([\"Gender\",\"City\"]).size()"
   ]
  },
  {
   "cell_type": "code",
   "execution_count": null,
   "metadata": {},
   "outputs": [],
   "source": []
  },
  {
   "cell_type": "code",
   "execution_count": null,
   "metadata": {},
   "outputs": [],
   "source": []
  }
 ],
 "metadata": {
  "kernelspec": {
   "display_name": "Python 3",
   "language": "python",
   "name": "python3"
  },
  "language_info": {
   "codemirror_mode": {
    "name": "ipython",
    "version": 3
   },
   "file_extension": ".py",
   "mimetype": "text/x-python",
   "name": "python",
   "nbconvert_exporter": "python",
   "pygments_lexer": "ipython3",
   "version": "3.12.4"
  }
 },
 "nbformat": 4,
 "nbformat_minor": 2
}
