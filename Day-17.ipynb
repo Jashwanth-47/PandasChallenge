{
 "cells": [
  {
   "cell_type": "markdown",
   "metadata": {},
   "source": [
    "Problem: Analyzing Sales Transactions\n",
    "\n",
    "You have a DataFrame df with the following columns:\n",
    "\n",
    "CustomerID: Unique ID for customers.\n",
    "TransactionDate: The date of the transaction.\n",
    "Amount: The transaction amount.\n",
    "Region: The region where the transaction occurred.\n",
    "\n",
    "1.Calculate Total Spent: For each CustomerID, calculate the total transaction amount.\n",
    "(Hint: Use groupby and sum.)\n",
    "\n",
    "2.Find Transactions in Q1: Filter the transactions that happened in the first quarter (January - March).\n",
    "\n",
    "3.Transaction Flag:\n",
    "Create a new column called HighTransaction:\n",
    "\n",
    "Value should be True if the transaction amount is greater than 300.\n",
    "    Otherwise, False.\n",
    "\n",
    "4.Region-Based Analysis:\n",
    "\n",
    "Calculate the average transaction amount for each Region.\n",
    "\n",
    "Find the Region with the lowest average transaction amount.\n",
    "\n",
    "5.Monthly Spending Trend:\n",
    "\n",
    "Create a new column Month from the TransactionDate.\n",
    "\n",
    "Group the data by Month and calculate the total amount spent for each month.\n",
    "\n",
    "Identify the month with the highest spending.\n",
    "\n",
    "6.Most Frequent Customers:\n",
    "\n",
    "Determine the top 2 customers (based on CustomerID) who made the highest total transactions."
   ]
  },
  {
   "cell_type": "code",
   "execution_count": 4,
   "metadata": {},
   "outputs": [],
   "source": [
    "import pandas as pd\n"
   ]
  },
  {
   "cell_type": "code",
   "execution_count": 5,
   "metadata": {},
   "outputs": [],
   "source": [
    "data = {\n",
    "    \"CustomerID\": [101, 102, 103, 104, 105, 101, 102, 104],\n",
    "    \"TransactionDate\": [\n",
    "        \"2023-01-10\", \"2023-02-15\", \"2023-02-20\", \n",
    "        \"2023-03-10\", \"2023-03-25\", \"2023-04-01\",\n",
    "        \"2023-04-05\", \"2023-04-12\"\n",
    "    ],\n",
    "    \"Amount\": [250, 300, 150, 500, 350, 200, 450, 300],\n",
    "    \"Region\": [\"East\", \"North\", \"South\", \"West\", \"East\", \"East\", \"North\", \"West\"]\n",
    "}\n",
    "\n",
    "df = pd.DataFrame(data)\n",
    "df[\"TransactionDate\"] = pd.to_datetime(df[\"TransactionDate\"])\n"
   ]
  },
  {
   "cell_type": "code",
   "execution_count": 6,
   "metadata": {},
   "outputs": [
    {
     "data": {
      "text/plain": [
       "CustomerID\n",
       "101    450\n",
       "102    750\n",
       "103    150\n",
       "104    800\n",
       "105    350\n",
       "Name: Amount, dtype: int64"
      ]
     },
     "execution_count": 6,
     "metadata": {},
     "output_type": "execute_result"
    }
   ],
   "source": [
    "df.groupby('CustomerID')['Amount'].sum()"
   ]
  },
  {
   "cell_type": "code",
   "execution_count": 48,
   "metadata": {},
   "outputs": [
    {
     "data": {
      "text/plain": [
       "0   2023-01-10\n",
       "1   2023-02-15\n",
       "2   2023-02-20\n",
       "3   2023-03-10\n",
       "4   2023-03-25\n",
       "Name: TransactionDate, dtype: datetime64[ns]"
      ]
     },
     "execution_count": 48,
     "metadata": {},
     "output_type": "execute_result"
    }
   ],
   "source": [
    "\n",
    "df[\"Month\"]=df[\"TransactionDate\"].dt.month\n",
    "def s(Month):\n",
    "    if Month in [1,2,3]:\n",
    "        return \"Q1\"\n",
    "    elif Month in [4,5,6]:\n",
    "        return \"Q2\"\n",
    "    elif Month in [7,8,9]:\n",
    "        return \"Q3\"\n",
    "    else:\n",
    "        return \"Q4\"\n",
    "df[\"Quarter\"]=df[\"Month\"].apply(s)\n",
    "df.loc[df[\"Quarter\"]==\"Q1\",\"TransactionDate\"]\n"
   ]
  },
  {
   "cell_type": "code",
   "execution_count": 49,
   "metadata": {},
   "outputs": [
    {
     "data": {
      "text/html": [
       "<div>\n",
       "<style scoped>\n",
       "    .dataframe tbody tr th:only-of-type {\n",
       "        vertical-align: middle;\n",
       "    }\n",
       "\n",
       "    .dataframe tbody tr th {\n",
       "        vertical-align: top;\n",
       "    }\n",
       "\n",
       "    .dataframe thead th {\n",
       "        text-align: right;\n",
       "    }\n",
       "</style>\n",
       "<table border=\"1\" class=\"dataframe\">\n",
       "  <thead>\n",
       "    <tr style=\"text-align: right;\">\n",
       "      <th></th>\n",
       "      <th>CustomerID</th>\n",
       "      <th>TransactionDate</th>\n",
       "      <th>Amount</th>\n",
       "      <th>Region</th>\n",
       "      <th>Month</th>\n",
       "      <th>Quater</th>\n",
       "      <th>HighTranscation</th>\n",
       "      <th>Avg</th>\n",
       "      <th>Quarter</th>\n",
       "      <th>HighTransaction</th>\n",
       "    </tr>\n",
       "  </thead>\n",
       "  <tbody>\n",
       "    <tr>\n",
       "      <th>0</th>\n",
       "      <td>101</td>\n",
       "      <td>2023-01-10</td>\n",
       "      <td>250</td>\n",
       "      <td>East</td>\n",
       "      <td>1</td>\n",
       "      <td>Q1</td>\n",
       "      <td>False</td>\n",
       "      <td>NaN</td>\n",
       "      <td>Q1</td>\n",
       "      <td>False</td>\n",
       "    </tr>\n",
       "    <tr>\n",
       "      <th>1</th>\n",
       "      <td>102</td>\n",
       "      <td>2023-02-15</td>\n",
       "      <td>300</td>\n",
       "      <td>North</td>\n",
       "      <td>2</td>\n",
       "      <td>Q1</td>\n",
       "      <td>False</td>\n",
       "      <td>NaN</td>\n",
       "      <td>Q1</td>\n",
       "      <td>False</td>\n",
       "    </tr>\n",
       "    <tr>\n",
       "      <th>2</th>\n",
       "      <td>103</td>\n",
       "      <td>2023-02-20</td>\n",
       "      <td>150</td>\n",
       "      <td>South</td>\n",
       "      <td>2</td>\n",
       "      <td>Q1</td>\n",
       "      <td>False</td>\n",
       "      <td>NaN</td>\n",
       "      <td>Q1</td>\n",
       "      <td>False</td>\n",
       "    </tr>\n",
       "    <tr>\n",
       "      <th>3</th>\n",
       "      <td>104</td>\n",
       "      <td>2023-03-10</td>\n",
       "      <td>500</td>\n",
       "      <td>West</td>\n",
       "      <td>3</td>\n",
       "      <td>Q1</td>\n",
       "      <td>True</td>\n",
       "      <td>NaN</td>\n",
       "      <td>Q1</td>\n",
       "      <td>True</td>\n",
       "    </tr>\n",
       "    <tr>\n",
       "      <th>4</th>\n",
       "      <td>105</td>\n",
       "      <td>2023-03-25</td>\n",
       "      <td>350</td>\n",
       "      <td>East</td>\n",
       "      <td>3</td>\n",
       "      <td>Q1</td>\n",
       "      <td>True</td>\n",
       "      <td>NaN</td>\n",
       "      <td>Q1</td>\n",
       "      <td>True</td>\n",
       "    </tr>\n",
       "    <tr>\n",
       "      <th>5</th>\n",
       "      <td>101</td>\n",
       "      <td>2023-04-01</td>\n",
       "      <td>200</td>\n",
       "      <td>East</td>\n",
       "      <td>4</td>\n",
       "      <td>Q2</td>\n",
       "      <td>False</td>\n",
       "      <td>NaN</td>\n",
       "      <td>Q2</td>\n",
       "      <td>False</td>\n",
       "    </tr>\n",
       "    <tr>\n",
       "      <th>6</th>\n",
       "      <td>102</td>\n",
       "      <td>2023-04-05</td>\n",
       "      <td>450</td>\n",
       "      <td>North</td>\n",
       "      <td>4</td>\n",
       "      <td>Q2</td>\n",
       "      <td>True</td>\n",
       "      <td>NaN</td>\n",
       "      <td>Q2</td>\n",
       "      <td>True</td>\n",
       "    </tr>\n",
       "    <tr>\n",
       "      <th>7</th>\n",
       "      <td>104</td>\n",
       "      <td>2023-04-12</td>\n",
       "      <td>300</td>\n",
       "      <td>West</td>\n",
       "      <td>4</td>\n",
       "      <td>Q2</td>\n",
       "      <td>False</td>\n",
       "      <td>NaN</td>\n",
       "      <td>Q2</td>\n",
       "      <td>False</td>\n",
       "    </tr>\n",
       "  </tbody>\n",
       "</table>\n",
       "</div>"
      ],
      "text/plain": [
       "   CustomerID TransactionDate  Amount Region  Month Quater  HighTranscation  \\\n",
       "0         101      2023-01-10     250   East      1     Q1            False   \n",
       "1         102      2023-02-15     300  North      2     Q1            False   \n",
       "2         103      2023-02-20     150  South      2     Q1            False   \n",
       "3         104      2023-03-10     500   West      3     Q1             True   \n",
       "4         105      2023-03-25     350   East      3     Q1             True   \n",
       "5         101      2023-04-01     200   East      4     Q2            False   \n",
       "6         102      2023-04-05     450  North      4     Q2             True   \n",
       "7         104      2023-04-12     300   West      4     Q2            False   \n",
       "\n",
       "   Avg Quarter  HighTransaction  \n",
       "0  NaN      Q1            False  \n",
       "1  NaN      Q1            False  \n",
       "2  NaN      Q1            False  \n",
       "3  NaN      Q1             True  \n",
       "4  NaN      Q1             True  \n",
       "5  NaN      Q2            False  \n",
       "6  NaN      Q2             True  \n",
       "7  NaN      Q2            False  "
      ]
     },
     "execution_count": 49,
     "metadata": {},
     "output_type": "execute_result"
    }
   ],
   "source": [
    "def s(Amount):\n",
    "    if Amount>300:\n",
    "        return True\n",
    "    else:\n",
    "        return False\n",
    "df[\"HighTransaction\"]=df[\"Amount\"].apply(s)\n",
    "df"
   ]
  },
  {
   "cell_type": "code",
   "execution_count": 34,
   "metadata": {},
   "outputs": [
    {
     "data": {
      "text/plain": [
       "Region\n",
       "East     266.666667\n",
       "North    375.000000\n",
       "South    150.000000\n",
       "West     400.000000\n",
       "Name: Amount, dtype: float64"
      ]
     },
     "execution_count": 34,
     "metadata": {},
     "output_type": "execute_result"
    }
   ],
   "source": [
    "sd=df.groupby('Region')['Amount'].mean()\n",
    "sd\n"
   ]
  },
  {
   "cell_type": "code",
   "execution_count": 35,
   "metadata": {},
   "outputs": [
    {
     "data": {
      "text/plain": [
       "'South'"
      ]
     },
     "execution_count": 35,
     "metadata": {},
     "output_type": "execute_result"
    }
   ],
   "source": [
    "sd.idxmin()#Find the Region with the Lowest Average Transaction Amount"
   ]
  },
  {
   "cell_type": "code",
   "execution_count": 39,
   "metadata": {},
   "outputs": [
    {
     "data": {
      "text/plain": [
       "Month\n",
       "1    250\n",
       "2    450\n",
       "3    850\n",
       "4    950\n",
       "Name: Amount, dtype: int64"
      ]
     },
     "execution_count": 39,
     "metadata": {},
     "output_type": "execute_result"
    }
   ],
   "source": [
    "sf=df.groupby('Month')['Amount'].sum()\n",
    "sf"
   ]
  },
  {
   "cell_type": "code",
   "execution_count": 40,
   "metadata": {},
   "outputs": [
    {
     "data": {
      "text/plain": [
       "4"
      ]
     },
     "execution_count": 40,
     "metadata": {},
     "output_type": "execute_result"
    }
   ],
   "source": [
    "sf.idxmax() #Identify the Month with the Highest Spending"
   ]
  },
  {
   "cell_type": "code",
   "execution_count": 47,
   "metadata": {},
   "outputs": [
    {
     "data": {
      "text/plain": [
       "CustomerID\n",
       "104    800\n",
       "102    750\n",
       "Name: Amount, dtype: int64"
      ]
     },
     "execution_count": 47,
     "metadata": {},
     "output_type": "execute_result"
    }
   ],
   "source": [
    "sg=df.groupby('CustomerID')['Amount'].sum()\n",
    "sa=sg.sort_values(ascending=False).head(2)\n",
    "sa"
   ]
  },
  {
   "cell_type": "code",
   "execution_count": null,
   "metadata": {},
   "outputs": [],
   "source": []
  }
 ],
 "metadata": {
  "kernelspec": {
   "display_name": "Python 3",
   "language": "python",
   "name": "python3"
  },
  "language_info": {
   "codemirror_mode": {
    "name": "ipython",
    "version": 3
   },
   "file_extension": ".py",
   "mimetype": "text/x-python",
   "name": "python",
   "nbconvert_exporter": "python",
   "pygments_lexer": "ipython3",
   "version": "3.12.4"
  }
 },
 "nbformat": 4,
 "nbformat_minor": 2
}
