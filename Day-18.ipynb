{
 "cells": [
  {
   "cell_type": "markdown",
   "metadata": {},
   "source": [
    "1. Identify Customers with Repeated Transactions\n",
    "Find all customers (CustomerID) who made more than one transaction in the dataset.\n",
    "\n",
    "2. Calculate the Total Spending per Region for Each Quarter\n",
    "Group the data by both Region and Quarter, then calculate the total spending (Amount) for each combination.\n",
    "\n",
    "3. Determine the Earliest Transaction Date for Each Customer\n",
    "Identify the first transaction date for each CustomerID."
   ]
  },
  {
   "cell_type": "code",
   "execution_count": 1,
   "metadata": {},
   "outputs": [],
   "source": [
    "import pandas as pd"
   ]
  },
  {
   "cell_type": "code",
   "execution_count": 2,
   "metadata": {},
   "outputs": [],
   "source": [
    "data = {\n",
    "    \"CustomerID\": [101, 102, 103, 104, 105, 101, 102, 104],\n",
    "    \"TransactionDate\": [\n",
    "        \"2023-01-10\", \"2023-02-15\", \"2023-02-20\", \n",
    "        \"2023-03-10\", \"2023-03-25\", \"2023-04-01\",\n",
    "        \"2023-04-05\", \"2023-04-12\"\n",
    "    ],\n",
    "    \"Amount\": [250, 300, 150, 500, 350, 200, 450, 300],\n",
    "    \"Region\": [\"East\", \"North\", \"South\", \"West\", \"East\", \"East\", \"North\", \"West\"]\n",
    "}\n",
    "\n",
    "df = pd.DataFrame(data)\n",
    "df[\"TransactionDate\"] = pd.to_datetime(df[\"TransactionDate\"])\n"
   ]
  },
  {
   "cell_type": "code",
   "execution_count": 34,
   "metadata": {},
   "outputs": [
    {
     "name": "stdout",
     "output_type": "stream",
     "text": [
      "Index([101, 102, 104], dtype='int64', name='CustomerID')\n"
     ]
    }
   ],
   "source": [
    "sd=df[\"CustomerID\"].value_counts() # Count the number of transactions per CustomerID\n",
    "repeated_customers=sd[sd>1].index# Count the number of transactions per CustomerID\n",
    "print(repeated_customers)"
   ]
  },
  {
   "cell_type": "code",
   "execution_count": 8,
   "metadata": {},
   "outputs": [
    {
     "data": {
      "text/plain": [
       "Region  Quarter\n",
       "East    Q1         600\n",
       "        Q2         200\n",
       "North   Q1         300\n",
       "        Q2         450\n",
       "South   Q1         150\n",
       "West    Q1         500\n",
       "        Q2         300\n",
       "Name: Amount, dtype: int64"
      ]
     },
     "execution_count": 8,
     "metadata": {},
     "output_type": "execute_result"
    }
   ],
   "source": [
    "df[\"Month\"]=df[\"TransactionDate\"].dt.month \n",
    "def s(Month):\n",
    "    if Month in [1,2,3]:\n",
    "        return \"Q1\"\n",
    "    elif Month in [4,5,6]:\n",
    "        return \"Q2\"\n",
    "    elif Month in [7,8,9]:\n",
    "        return \"Q3\"\n",
    "    else:\n",
    "        return \"Q4\"\n",
    "df[\"Quarter\"]=df[\"Month\"].apply(s)\n",
    "df.groupby([\"Region\",\"Quarter\"])[\"Amount\"].sum()"
   ]
  },
  {
   "cell_type": "code",
   "execution_count": 26,
   "metadata": {},
   "outputs": [
    {
     "data": {
      "text/plain": [
       "CustomerID\n",
       "101   2023-01-10\n",
       "102   2023-02-15\n",
       "103   2023-02-20\n",
       "104   2023-03-10\n",
       "105   2023-03-25\n",
       "Name: TransactionDate, dtype: datetime64[ns]"
      ]
     },
     "execution_count": 26,
     "metadata": {},
     "output_type": "execute_result"
    }
   ],
   "source": [
    "df.groupby(\"CustomerID\")[\"TransactionDate\"].min()"
   ]
  },
  {
   "cell_type": "code",
   "execution_count": null,
   "metadata": {},
   "outputs": [],
   "source": []
  }
 ],
 "metadata": {
  "kernelspec": {
   "display_name": "Python 3",
   "language": "python",
   "name": "python3"
  },
  "language_info": {
   "codemirror_mode": {
    "name": "ipython",
    "version": 3
   },
   "file_extension": ".py",
   "mimetype": "text/x-python",
   "name": "python",
   "nbconvert_exporter": "python",
   "pygments_lexer": "ipython3",
   "version": "3.12.4"
  }
 },
 "nbformat": 4,
 "nbformat_minor": 2
}
