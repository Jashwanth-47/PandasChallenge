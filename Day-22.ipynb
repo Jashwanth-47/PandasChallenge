{
 "cells": [
  {
   "cell_type": "markdown",
   "metadata": {},
   "source": [
    "Problem: Average Spending per Region and Frequency\n",
    "\n",
    "1.Compute the average Amount spent per Region based on customer Frequency (Frequent, Occasional, Rare).\n",
    "\n",
    "2.Add the results into a new DataFrame with columns Region, Frequency, and AverageAmount."
   ]
  },
  {
   "cell_type": "code",
   "execution_count": 1,
   "metadata": {},
   "outputs": [],
   "source": [
    "import pandas as pd"
   ]
  },
  {
   "cell_type": "code",
   "execution_count": 2,
   "metadata": {},
   "outputs": [],
   "source": [
    "data = {\n",
    "    \"CustomerID\": [101, 102, 103, 104, 105, 101, 102, 104],\n",
    "    \"TransactionDate\": [\n",
    "        \"2023-01-10\", \"2023-02-15\", \"2023-02-20\", \n",
    "        \"2023-03-10\", \"2023-03-25\", \"2023-04-01\",\n",
    "        \"2023-04-05\", \"2023-04-12\"\n",
    "    ],\n",
    "    \"Amount\": [250, 300, 150, 500, 350, 200, 450, 300],\n",
    "    \"Region\": [\"East\", \"North\", \"South\", \"West\", \"East\", \"East\", \"North\", \"West\"]\n",
    "}\n",
    "\n",
    "df = pd.DataFrame(data)\n",
    "df[\"TransactionDate\"] = pd.to_datetime(df[\"TransactionDate\"])"
   ]
  },
  {
   "cell_type": "code",
   "execution_count": 3,
   "metadata": {},
   "outputs": [
    {
     "data": {
      "text/html": [
       "<div>\n",
       "<style scoped>\n",
       "    .dataframe tbody tr th:only-of-type {\n",
       "        vertical-align: middle;\n",
       "    }\n",
       "\n",
       "    .dataframe tbody tr th {\n",
       "        vertical-align: top;\n",
       "    }\n",
       "\n",
       "    .dataframe thead th {\n",
       "        text-align: right;\n",
       "    }\n",
       "</style>\n",
       "<table border=\"1\" class=\"dataframe\">\n",
       "  <thead>\n",
       "    <tr style=\"text-align: right;\">\n",
       "      <th></th>\n",
       "      <th>CustomerID</th>\n",
       "      <th>TransactionDate</th>\n",
       "      <th>Amount</th>\n",
       "      <th>Region</th>\n",
       "      <th>Frequency</th>\n",
       "    </tr>\n",
       "  </thead>\n",
       "  <tbody>\n",
       "    <tr>\n",
       "      <th>0</th>\n",
       "      <td>101</td>\n",
       "      <td>2023-01-10</td>\n",
       "      <td>250</td>\n",
       "      <td>East</td>\n",
       "      <td>Occasional</td>\n",
       "    </tr>\n",
       "    <tr>\n",
       "      <th>1</th>\n",
       "      <td>102</td>\n",
       "      <td>2023-02-15</td>\n",
       "      <td>300</td>\n",
       "      <td>North</td>\n",
       "      <td>Occasional</td>\n",
       "    </tr>\n",
       "    <tr>\n",
       "      <th>2</th>\n",
       "      <td>103</td>\n",
       "      <td>2023-02-20</td>\n",
       "      <td>150</td>\n",
       "      <td>South</td>\n",
       "      <td>Rare</td>\n",
       "    </tr>\n",
       "    <tr>\n",
       "      <th>3</th>\n",
       "      <td>104</td>\n",
       "      <td>2023-03-10</td>\n",
       "      <td>500</td>\n",
       "      <td>West</td>\n",
       "      <td>Occasional</td>\n",
       "    </tr>\n",
       "    <tr>\n",
       "      <th>4</th>\n",
       "      <td>105</td>\n",
       "      <td>2023-03-25</td>\n",
       "      <td>350</td>\n",
       "      <td>East</td>\n",
       "      <td>Rare</td>\n",
       "    </tr>\n",
       "    <tr>\n",
       "      <th>5</th>\n",
       "      <td>101</td>\n",
       "      <td>2023-04-01</td>\n",
       "      <td>200</td>\n",
       "      <td>East</td>\n",
       "      <td>Occasional</td>\n",
       "    </tr>\n",
       "    <tr>\n",
       "      <th>6</th>\n",
       "      <td>102</td>\n",
       "      <td>2023-04-05</td>\n",
       "      <td>450</td>\n",
       "      <td>North</td>\n",
       "      <td>Occasional</td>\n",
       "    </tr>\n",
       "    <tr>\n",
       "      <th>7</th>\n",
       "      <td>104</td>\n",
       "      <td>2023-04-12</td>\n",
       "      <td>300</td>\n",
       "      <td>West</td>\n",
       "      <td>Occasional</td>\n",
       "    </tr>\n",
       "  </tbody>\n",
       "</table>\n",
       "</div>"
      ],
      "text/plain": [
       "   CustomerID TransactionDate  Amount Region   Frequency\n",
       "0         101      2023-01-10     250   East  Occasional\n",
       "1         102      2023-02-15     300  North  Occasional\n",
       "2         103      2023-02-20     150  South        Rare\n",
       "3         104      2023-03-10     500   West  Occasional\n",
       "4         105      2023-03-25     350   East        Rare\n",
       "5         101      2023-04-01     200   East  Occasional\n",
       "6         102      2023-04-05     450  North  Occasional\n",
       "7         104      2023-04-12     300   West  Occasional"
      ]
     },
     "execution_count": 3,
     "metadata": {},
     "output_type": "execute_result"
    }
   ],
   "source": [
    "s=df.groupby(\"CustomerID\")[\"Amount\"].count()\n",
    "def frequency(count):\n",
    "    if count>=3:\n",
    "        return \"Frequent\"\n",
    "    elif count==2:\n",
    "        return \"Occasional\"\n",
    "    else:\n",
    "        return \"Rare\"\n",
    "customerFrequency=s.apply(frequency)\n",
    "df[\"Frequency\"]=df[\"CustomerID\"].map(customerFrequency)\n",
    "df"
   ]
  },
  {
   "cell_type": "code",
   "execution_count": 4,
   "metadata": {},
   "outputs": [
    {
     "data": {
      "text/plain": [
       "Frequency   Region\n",
       "Occasional  East      225.0\n",
       "            North     375.0\n",
       "            West      400.0\n",
       "Rare        East      350.0\n",
       "            South     150.0\n",
       "Name: Amount, dtype: float64"
      ]
     },
     "execution_count": 4,
     "metadata": {},
     "output_type": "execute_result"
    }
   ],
   "source": [
    "df.groupby([\"Frequency\",\"Region\"])[\"Amount\"].mean()"
   ]
  },
  {
   "cell_type": "code",
   "execution_count": 14,
   "metadata": {},
   "outputs": [
    {
     "data": {
      "text/html": [
       "<div>\n",
       "<style scoped>\n",
       "    .dataframe tbody tr th:only-of-type {\n",
       "        vertical-align: middle;\n",
       "    }\n",
       "\n",
       "    .dataframe tbody tr th {\n",
       "        vertical-align: top;\n",
       "    }\n",
       "\n",
       "    .dataframe thead th {\n",
       "        text-align: right;\n",
       "    }\n",
       "</style>\n",
       "<table border=\"1\" class=\"dataframe\">\n",
       "  <thead>\n",
       "    <tr style=\"text-align: right;\">\n",
       "      <th></th>\n",
       "      <th>Frequency</th>\n",
       "      <th>Region</th>\n",
       "      <th>Amount</th>\n",
       "    </tr>\n",
       "  </thead>\n",
       "  <tbody>\n",
       "    <tr>\n",
       "      <th>0</th>\n",
       "      <td>Occasional</td>\n",
       "      <td>East</td>\n",
       "      <td>225.0</td>\n",
       "    </tr>\n",
       "    <tr>\n",
       "      <th>1</th>\n",
       "      <td>Occasional</td>\n",
       "      <td>North</td>\n",
       "      <td>375.0</td>\n",
       "    </tr>\n",
       "    <tr>\n",
       "      <th>2</th>\n",
       "      <td>Occasional</td>\n",
       "      <td>West</td>\n",
       "      <td>400.0</td>\n",
       "    </tr>\n",
       "    <tr>\n",
       "      <th>3</th>\n",
       "      <td>Rare</td>\n",
       "      <td>East</td>\n",
       "      <td>350.0</td>\n",
       "    </tr>\n",
       "    <tr>\n",
       "      <th>4</th>\n",
       "      <td>Rare</td>\n",
       "      <td>South</td>\n",
       "      <td>150.0</td>\n",
       "    </tr>\n",
       "  </tbody>\n",
       "</table>\n",
       "</div>"
      ],
      "text/plain": [
       "    Frequency Region  Amount\n",
       "0  Occasional   East   225.0\n",
       "1  Occasional  North   375.0\n",
       "2  Occasional   West   400.0\n",
       "3        Rare   East   350.0\n",
       "4        Rare  South   150.0"
      ]
     },
     "execution_count": 14,
     "metadata": {},
     "output_type": "execute_result"
    }
   ],
   "source": [
    "df2=df.groupby([\"Frequency\",\"Region\"])[\"Amount\"].mean().reset_index()\n",
    "d2=df2 # the line d2 = pd.DataFrame(df2) is unnecessary. It’s better to avoid redundant steps to keep your code clean and efficient.\n",
    "d2"
   ]
  },
  {
   "cell_type": "code",
   "execution_count": 24,
   "metadata": {},
   "outputs": [
    {
     "data": {
      "text/html": [
       "<div>\n",
       "<style scoped>\n",
       "    .dataframe tbody tr th:only-of-type {\n",
       "        vertical-align: middle;\n",
       "    }\n",
       "\n",
       "    .dataframe tbody tr th {\n",
       "        vertical-align: top;\n",
       "    }\n",
       "\n",
       "    .dataframe thead th {\n",
       "        text-align: right;\n",
       "    }\n",
       "</style>\n",
       "<table border=\"1\" class=\"dataframe\">\n",
       "  <thead>\n",
       "    <tr style=\"text-align: right;\">\n",
       "      <th></th>\n",
       "      <th>Frequency</th>\n",
       "      <th>Region</th>\n",
       "      <th>Average-Amount</th>\n",
       "    </tr>\n",
       "  </thead>\n",
       "  <tbody>\n",
       "    <tr>\n",
       "      <th>0</th>\n",
       "      <td>Occasional</td>\n",
       "      <td>East</td>\n",
       "      <td>225.0</td>\n",
       "    </tr>\n",
       "    <tr>\n",
       "      <th>1</th>\n",
       "      <td>Occasional</td>\n",
       "      <td>North</td>\n",
       "      <td>375.0</td>\n",
       "    </tr>\n",
       "    <tr>\n",
       "      <th>2</th>\n",
       "      <td>Occasional</td>\n",
       "      <td>West</td>\n",
       "      <td>400.0</td>\n",
       "    </tr>\n",
       "    <tr>\n",
       "      <th>3</th>\n",
       "      <td>Rare</td>\n",
       "      <td>East</td>\n",
       "      <td>350.0</td>\n",
       "    </tr>\n",
       "    <tr>\n",
       "      <th>4</th>\n",
       "      <td>Rare</td>\n",
       "      <td>South</td>\n",
       "      <td>150.0</td>\n",
       "    </tr>\n",
       "  </tbody>\n",
       "</table>\n",
       "</div>"
      ],
      "text/plain": [
       "    Frequency Region  Average-Amount\n",
       "0  Occasional   East           225.0\n",
       "1  Occasional  North           375.0\n",
       "2  Occasional   West           400.0\n",
       "3        Rare   East           350.0\n",
       "4        Rare  South           150.0"
      ]
     },
     "execution_count": 24,
     "metadata": {},
     "output_type": "execute_result"
    }
   ],
   "source": [
    "df2.rename(columns={\"Amount\":\"Average-Amount\"},inplace=True)\n",
    "df2"
   ]
  },
  {
   "cell_type": "code",
   "execution_count": null,
   "metadata": {},
   "outputs": [],
   "source": []
  }
 ],
 "metadata": {
  "kernelspec": {
   "display_name": "Python 3",
   "language": "python",
   "name": "python3"
  },
  "language_info": {
   "codemirror_mode": {
    "name": "ipython",
    "version": 3
   },
   "file_extension": ".py",
   "mimetype": "text/x-python",
   "name": "python",
   "nbconvert_exporter": "python",
   "pygments_lexer": "ipython3",
   "version": "3.12.4"
  }
 },
 "nbformat": 4,
 "nbformat_minor": 2
}
