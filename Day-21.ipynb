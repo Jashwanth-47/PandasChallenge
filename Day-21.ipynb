{
 "cells": [
  {
   "cell_type": "markdown",
   "metadata": {},
   "source": [
    "1.Identify the Highest-Spending Customer\n",
    "\n",
    "Find the CustomerID with the highest total Amount spent and their total spending.\n",
    "\n",
    "2.Calculate Average Spending per Week\n",
    "\n",
    "Determine the average spending per week across all customers.\n",
    "\n",
    "3.Find the Peak Day for Transactions\n",
    "\n",
    "Identify the Day (0 = Monday, 6 = Sunday) with the highest number of transactions.\n",
    "\n",
    "4.Group Customers by Frequency of Transactions\n",
    "\n",
    "Group customers into categories:\n",
    "\n",
    "Frequent: Customers with 3 or more transactions.\n",
    "\n",
    "Occasional: Customers with 2 transactions.\n",
    "\n",
    "Rare: Customers with 1 transaction"
   ]
  },
  {
   "cell_type": "code",
   "execution_count": 2,
   "metadata": {},
   "outputs": [],
   "source": [
    "import pandas as pd"
   ]
  },
  {
   "cell_type": "code",
   "execution_count": 3,
   "metadata": {},
   "outputs": [],
   "source": [
    "data = {\n",
    "    \"CustomerID\": [101, 102, 103, 104, 105, 101, 102, 104],\n",
    "    \"TransactionDate\": [\n",
    "        \"2023-01-10\", \"2023-02-15\", \"2023-02-20\", \n",
    "        \"2023-03-10\", \"2023-03-25\", \"2023-04-01\",\n",
    "        \"2023-04-05\", \"2023-04-12\"\n",
    "    ],\n",
    "    \"Amount\": [250, 300, 150, 500, 350, 200, 450, 300],\n",
    "    \"Region\": [\"East\", \"North\", \"South\", \"West\", \"East\", \"East\", \"North\", \"West\"]\n",
    "}\n",
    "\n",
    "df = pd.DataFrame(data)\n",
    "df[\"TransactionDate\"] = pd.to_datetime(df[\"TransactionDate\"])"
   ]
  },
  {
   "cell_type": "code",
   "execution_count": 4,
   "metadata": {},
   "outputs": [
    {
     "data": {
      "text/html": [
       "<div>\n",
       "<style scoped>\n",
       "    .dataframe tbody tr th:only-of-type {\n",
       "        vertical-align: middle;\n",
       "    }\n",
       "\n",
       "    .dataframe tbody tr th {\n",
       "        vertical-align: top;\n",
       "    }\n",
       "\n",
       "    .dataframe thead th {\n",
       "        text-align: right;\n",
       "    }\n",
       "</style>\n",
       "<table border=\"1\" class=\"dataframe\">\n",
       "  <thead>\n",
       "    <tr style=\"text-align: right;\">\n",
       "      <th></th>\n",
       "      <th>CustomerID</th>\n",
       "      <th>TransactionDate</th>\n",
       "      <th>Amount</th>\n",
       "      <th>Region</th>\n",
       "      <th>Day</th>\n",
       "      <th>Week</th>\n",
       "    </tr>\n",
       "  </thead>\n",
       "  <tbody>\n",
       "    <tr>\n",
       "      <th>0</th>\n",
       "      <td>101</td>\n",
       "      <td>2023-01-10</td>\n",
       "      <td>250</td>\n",
       "      <td>East</td>\n",
       "      <td>1</td>\n",
       "      <td>2</td>\n",
       "    </tr>\n",
       "    <tr>\n",
       "      <th>1</th>\n",
       "      <td>102</td>\n",
       "      <td>2023-02-15</td>\n",
       "      <td>300</td>\n",
       "      <td>North</td>\n",
       "      <td>2</td>\n",
       "      <td>7</td>\n",
       "    </tr>\n",
       "    <tr>\n",
       "      <th>2</th>\n",
       "      <td>103</td>\n",
       "      <td>2023-02-20</td>\n",
       "      <td>150</td>\n",
       "      <td>South</td>\n",
       "      <td>0</td>\n",
       "      <td>8</td>\n",
       "    </tr>\n",
       "    <tr>\n",
       "      <th>3</th>\n",
       "      <td>104</td>\n",
       "      <td>2023-03-10</td>\n",
       "      <td>500</td>\n",
       "      <td>West</td>\n",
       "      <td>4</td>\n",
       "      <td>10</td>\n",
       "    </tr>\n",
       "    <tr>\n",
       "      <th>4</th>\n",
       "      <td>105</td>\n",
       "      <td>2023-03-25</td>\n",
       "      <td>350</td>\n",
       "      <td>East</td>\n",
       "      <td>5</td>\n",
       "      <td>12</td>\n",
       "    </tr>\n",
       "    <tr>\n",
       "      <th>5</th>\n",
       "      <td>101</td>\n",
       "      <td>2023-04-01</td>\n",
       "      <td>200</td>\n",
       "      <td>East</td>\n",
       "      <td>5</td>\n",
       "      <td>13</td>\n",
       "    </tr>\n",
       "    <tr>\n",
       "      <th>6</th>\n",
       "      <td>102</td>\n",
       "      <td>2023-04-05</td>\n",
       "      <td>450</td>\n",
       "      <td>North</td>\n",
       "      <td>2</td>\n",
       "      <td>14</td>\n",
       "    </tr>\n",
       "    <tr>\n",
       "      <th>7</th>\n",
       "      <td>104</td>\n",
       "      <td>2023-04-12</td>\n",
       "      <td>300</td>\n",
       "      <td>West</td>\n",
       "      <td>2</td>\n",
       "      <td>15</td>\n",
       "    </tr>\n",
       "  </tbody>\n",
       "</table>\n",
       "</div>"
      ],
      "text/plain": [
       "   CustomerID TransactionDate  Amount Region  Day  Week\n",
       "0         101      2023-01-10     250   East    1     2\n",
       "1         102      2023-02-15     300  North    2     7\n",
       "2         103      2023-02-20     150  South    0     8\n",
       "3         104      2023-03-10     500   West    4    10\n",
       "4         105      2023-03-25     350   East    5    12\n",
       "5         101      2023-04-01     200   East    5    13\n",
       "6         102      2023-04-05     450  North    2    14\n",
       "7         104      2023-04-12     300   West    2    15"
      ]
     },
     "execution_count": 4,
     "metadata": {},
     "output_type": "execute_result"
    }
   ],
   "source": [
    "df[\"Day\"]=df[\"TransactionDate\"].dt.dayofweek\n",
    "df[\"Week\"]=df[\"TransactionDate\"].dt.isocalendar().week\n",
    "df"
   ]
  },
  {
   "cell_type": "code",
   "execution_count": 29,
   "metadata": {},
   "outputs": [
    {
     "name": "stdout",
     "output_type": "stream",
     "text": [
      "CustomerID with highest spending 104\n",
      "Total 800\n"
     ]
    }
   ],
   "source": [
    "s=df.groupby(\"CustomerID\")[\"Amount\"].sum()# Calculate total spending by each customer\n",
    "f=s.idxmax()# Find the CustomerID with the highest spending\n",
    "g=s.max() # Find the total spending amount of this customer\n",
    "print(\"CustomerID with highest spending\",f)\n",
    "print(\"Total\",g)"
   ]
  },
  {
   "cell_type": "code",
   "execution_count": 6,
   "metadata": {},
   "outputs": [
    {
     "data": {
      "text/plain": [
       "CustomerID  Week\n",
       "101         2       250.0\n",
       "            13      200.0\n",
       "102         7       300.0\n",
       "            14      450.0\n",
       "103         8       150.0\n",
       "104         10      500.0\n",
       "            15      300.0\n",
       "105         12      350.0\n",
       "Name: Amount, dtype: float64"
      ]
     },
     "execution_count": 6,
     "metadata": {},
     "output_type": "execute_result"
    }
   ],
   "source": [
    "df.groupby([\"CustomerID\",\"Week\"])[\"Amount\"].mean()"
   ]
  },
  {
   "cell_type": "code",
   "execution_count": 7,
   "metadata": {},
   "outputs": [
    {
     "data": {
      "text/plain": [
       "4"
      ]
     },
     "execution_count": 7,
     "metadata": {},
     "output_type": "execute_result"
    }
   ],
   "source": [
    "s=df.groupby(\"Day\")[\"Amount\"].max()\n",
    "s.idxmax()"
   ]
  },
  {
   "cell_type": "code",
   "execution_count": 20,
   "metadata": {},
   "outputs": [
    {
     "data": {
      "text/html": [
       "<div>\n",
       "<style scoped>\n",
       "    .dataframe tbody tr th:only-of-type {\n",
       "        vertical-align: middle;\n",
       "    }\n",
       "\n",
       "    .dataframe tbody tr th {\n",
       "        vertical-align: top;\n",
       "    }\n",
       "\n",
       "    .dataframe thead th {\n",
       "        text-align: right;\n",
       "    }\n",
       "</style>\n",
       "<table border=\"1\" class=\"dataframe\">\n",
       "  <thead>\n",
       "    <tr style=\"text-align: right;\">\n",
       "      <th></th>\n",
       "      <th>CustomerID</th>\n",
       "      <th>TransactionDate</th>\n",
       "      <th>Amount</th>\n",
       "      <th>Region</th>\n",
       "      <th>Day</th>\n",
       "      <th>Week</th>\n",
       "      <th>Frequency</th>\n",
       "    </tr>\n",
       "  </thead>\n",
       "  <tbody>\n",
       "    <tr>\n",
       "      <th>0</th>\n",
       "      <td>101</td>\n",
       "      <td>2023-01-10</td>\n",
       "      <td>250</td>\n",
       "      <td>East</td>\n",
       "      <td>1</td>\n",
       "      <td>2</td>\n",
       "      <td>Occasional</td>\n",
       "    </tr>\n",
       "    <tr>\n",
       "      <th>1</th>\n",
       "      <td>102</td>\n",
       "      <td>2023-02-15</td>\n",
       "      <td>300</td>\n",
       "      <td>North</td>\n",
       "      <td>2</td>\n",
       "      <td>7</td>\n",
       "      <td>Occasional</td>\n",
       "    </tr>\n",
       "    <tr>\n",
       "      <th>2</th>\n",
       "      <td>103</td>\n",
       "      <td>2023-02-20</td>\n",
       "      <td>150</td>\n",
       "      <td>South</td>\n",
       "      <td>0</td>\n",
       "      <td>8</td>\n",
       "      <td>Rare</td>\n",
       "    </tr>\n",
       "    <tr>\n",
       "      <th>3</th>\n",
       "      <td>104</td>\n",
       "      <td>2023-03-10</td>\n",
       "      <td>500</td>\n",
       "      <td>West</td>\n",
       "      <td>4</td>\n",
       "      <td>10</td>\n",
       "      <td>Occasional</td>\n",
       "    </tr>\n",
       "    <tr>\n",
       "      <th>4</th>\n",
       "      <td>105</td>\n",
       "      <td>2023-03-25</td>\n",
       "      <td>350</td>\n",
       "      <td>East</td>\n",
       "      <td>5</td>\n",
       "      <td>12</td>\n",
       "      <td>Rare</td>\n",
       "    </tr>\n",
       "    <tr>\n",
       "      <th>5</th>\n",
       "      <td>101</td>\n",
       "      <td>2023-04-01</td>\n",
       "      <td>200</td>\n",
       "      <td>East</td>\n",
       "      <td>5</td>\n",
       "      <td>13</td>\n",
       "      <td>Occasional</td>\n",
       "    </tr>\n",
       "    <tr>\n",
       "      <th>6</th>\n",
       "      <td>102</td>\n",
       "      <td>2023-04-05</td>\n",
       "      <td>450</td>\n",
       "      <td>North</td>\n",
       "      <td>2</td>\n",
       "      <td>14</td>\n",
       "      <td>Occasional</td>\n",
       "    </tr>\n",
       "    <tr>\n",
       "      <th>7</th>\n",
       "      <td>104</td>\n",
       "      <td>2023-04-12</td>\n",
       "      <td>300</td>\n",
       "      <td>West</td>\n",
       "      <td>2</td>\n",
       "      <td>15</td>\n",
       "      <td>Occasional</td>\n",
       "    </tr>\n",
       "  </tbody>\n",
       "</table>\n",
       "</div>"
      ],
      "text/plain": [
       "   CustomerID TransactionDate  Amount Region  Day  Week   Frequency\n",
       "0         101      2023-01-10     250   East    1     2  Occasional\n",
       "1         102      2023-02-15     300  North    2     7  Occasional\n",
       "2         103      2023-02-20     150  South    0     8        Rare\n",
       "3         104      2023-03-10     500   West    4    10  Occasional\n",
       "4         105      2023-03-25     350   East    5    12        Rare\n",
       "5         101      2023-04-01     200   East    5    13  Occasional\n",
       "6         102      2023-04-05     450  North    2    14  Occasional\n",
       "7         104      2023-04-12     300   West    2    15  Occasional"
      ]
     },
     "execution_count": 20,
     "metadata": {},
     "output_type": "execute_result"
    }
   ],
   "source": [
    "s=df.groupby(\"CustomerID\")[\"Amount\"].count()\n",
    "def frequency(count):\n",
    "    if count>=3:\n",
    "        return \"Frequent\"\n",
    "    elif count==2:\n",
    "        return \"Occasional\"\n",
    "    else:\n",
    "        return \"Rare\"\n",
    "customerFrequency=s.apply(frequency)\n",
    "df[\"Frequency\"]=df[\"CustomerID\"].map(customerFrequency)\n",
    "df"
   ]
  },
  {
   "cell_type": "code",
   "execution_count": null,
   "metadata": {},
   "outputs": [],
   "source": []
  }
 ],
 "metadata": {
  "kernelspec": {
   "display_name": "Python 3",
   "language": "python",
   "name": "python3"
  },
  "language_info": {
   "codemirror_mode": {
    "name": "ipython",
    "version": 3
   },
   "file_extension": ".py",
   "mimetype": "text/x-python",
   "name": "python",
   "nbconvert_exporter": "python",
   "pygments_lexer": "ipython3",
   "version": "3.12.4"
  }
 },
 "nbformat": 4,
 "nbformat_minor": 2
}
